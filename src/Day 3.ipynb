{
 "cells": [
  {
   "cell_type": "code",
   "execution_count": 1,
   "id": "a3914b8f",
   "metadata": {},
   "outputs": [],
   "source": [
    "import collections\n",
    "import pandas as pd\n"
   ]
  },
  {
   "cell_type": "code",
   "execution_count": 1,
   "id": "4a3c57ce",
   "metadata": {},
   "outputs": [
    {
     "name": "stdout",
     "output_type": "stream",
     "text": [
      "['LdHVLDLDdHdtLMhcqCqGWcWg', 'ZZQZSZnnJrQrJQJbfzfnWGWPWMcChMMPcqMnhFcF', 'ZrzpWzfbpQpWbzvZWZpdtVtDNmRHNVptNDHt', 'gzCjffWZCtCfZZVdqVSqJdvJndSt', 'hMHLcmGLMLhHmsRMsSvsQSqrsrlJTTdV', 'NPNGRGHGHNLczNzzZFWSFFCC', 'VSBpcvNNbNWWSfGRwtJnRtrzzGzGGn', 'jZlhTlQLHFLLZbwrzQQsttDtbs', 'hmmPFlhLmhLMgFMFLbMBBgcNVcfNCcfSVSSNBq', 'jRDSzjCjjMRMrHzMRCDHMDjBnlQbbnQwLwrNLPwnTPQrlc', 'sZBqdZqsWgFBpgppGJqllPllwnbQwTwsswQPwN', 'gJgtJJBtqJqWBGzjRCHDDzRmDtVV', 'GRBWbbWnGNhbwSsfPfmrlslWsS', 'HLVCgCLpMgcLVDcDCgmlvstSlsstPtSSSlscvl', 'LzQDQzMMzJzFQVDJgCzJHJZRZBNbqGFhNFwBGhbhBhBm', 'JNsHhdPZSdZJjSHzzNwvwGgBFmBmvptJbFvm', 'WrDrwqqqQWVMCvMvGbGbbFFbFp', 'rqqLncqnlCncwQWCwWlLfSZPsZddfzzNNdhdPlZz', 'rwfrwHqSdRcgwdZrDcrqDDdgNzjNjPzPJNJPtbNPbGsHNGHv', 'hllLMTLLQMCzJssPsTvtFG', 'QtQnpWVVMVWnVQpRZSSwZDggrcSq', 'FDlqPMBdmbqMrdDqqFdFDwjHZChHHZfZWZNBsZjhfhHf', 'VQJVgncpTQRJfsssGhsNWC', 'NtpLLSpcLVRzzRRtpgVcLgglMwwlPlzdmDlFmFPDmqqwlF', 'PqwwSqNWPqwSWqjNBwpTPpffhJfZfstRtZJRRdJsdR', 'VFLFzQVgVnDVjhdJHsvhZjfg', 'VVFVDDnmnzLFCzVmznFzrFlrjSCPNMBCSGSGwwwGBjPNWPwC', 'zzbCGrfgbzfzCtvqdjSrvSjnvS', 'cNVTLnJZRNNmQmhJNptvBlBtVjlljqqldtlB', 'ZhpcJHLQhRcLZLmNQJzfFwDzzgHPFngDPPnP', 'ttntdMMBZzbZZtjPfwjwTwBvvVmh', 'llSllRRNsGCrCDTPfgVgTfgvsjPH', 'CFclcCWGrJNDSnnWMbQTnWtLQd', 'bccfdSfwFsswcbbdJFGQVGnCJLnBLnDnQLDj', 'ThvHZNhZmqNWMNqvDVjcjjBQVhQBBVLB', 'vWMZZNRmNMWqtWqmqHclfFgdlwRwrzzSfwbFRd', 'WNzRWWZNmtNZnssNRPtCJFQJCffVJVffCvlF', 'cBqBLgHHBcgqBbCJjrvrVQJfsHlr', 'DhDShwchBSbdwBsqgGcbgTTRmzdNWmMRMmTdNpTMmW', 'FHWZDbbPZDFHgGGPdPbJNLpJSlNjcjSphcJjFN', 'ZCCrBBRwwCjcNwcljppN', 'CmTTsrMfBCRsTMnnCRTmVZbgdbdGfWHPDVvdbbPV', 'cgSNBScMgjBBPtBCNLVvVVvhhJJhvsMhVfWq', 'TFlDrHPZHTTFmwTQHZDZTrqvvzqlJppVJvpffhqqVfJp', 'DbPwrTZDQDRQQwQZrDrbbQwRRnNSBtCjtcNGjSgSLjLccC', 'pdcVCpdZnZgcZgdcDWBDNcNwvBWJwc', 'RRmHspRmmQfLwwJJbFBFFJNR', 'rGlpfrQrqGhGqdGP', 'THhNsHhdFjcDthDcjDhLBqWcLLQQJvvBbvBJbl', 'GfrCSZGCzfVMrVCCzGVfSMQBBFlJlJBFFZqvWBqbbQWl', 'rSrFwCwzMMzRfGrGMwPfGCVdgHDttthNPssHjmNNdDjgdD', 'shmhggDsZCZWBDmsQTcTqrLPTbNbwQQrrN', 'lzpFVfdjfFFGnVVHpjJGJVlprNMPNtPctTNwLtcTbwctwTnN', 'jVFfzVlFSpzpFCshWmgSRgmBRb', 'zZGFNPmdPdszdWddGWZlpLMLpbQbLDpblzQbtv', 'wTwgwSSCHhhCSghJbpcpDglbbQbMVMpV', 'BHnBRrJCHmRNfGDmfm', 'CffgvfCRGngRrvGvgdnRVpPQQPSqbVZZDPDVPzFSSQ', 'cMlWJTMlcTLTLtHHJlpqDLwqSzSSDDqDZDDS', 'tmHTtlMmWpmsMJsCRdCNsrRGfrnffN', 'lNrzNHNwzZlHmwNBpMqqnqGDZSpMTGnb', 'ddjgFjjsRvGvQhQvvFjqbVTFpbVpFDJSbJVpTS', 'cjsQhsjvRvGcgNtzczmtmwCCcr', 'NJMJvBmBJPtMtRDnDDwDMFFWDWHG', 'hZsrzshpSdjZZqSSfgpDwnwFnGCCLHDbjnGCWG', 'zfgSpScsrdpmllttGvJGcm', 'GLsnLVLZGZmcGVpgZLmTjTsDDTlDTHPPHWlHwD', 'dNJhCCdtNJSvdDzwPlvTlQ', 'BCbBrPPfRMfMJSffrMCMChrSqVcmLLFpqLFFcggLVnqgmbgc', 'hMdjMndZLRnRnjclszLclQlzGwcr', 'FPCCSCSpCwStJVGzsPQGslGzPbsQ', 'TSSJTtfTFTwtmTFFVFDTWRvdgndjjRhnjnvHjdfR', 'ZwgsnsWsWvWQHqJhGhJVCJHhCJ', 'cdjlMWRRMhJLCpLL', 'jjSRmRmNRNWBmdmcWjlDWFPswsPtnZQsnBsnZvvTTnvT', 'vvbjLTPbQzrQQjpLzLbflfjfRDDsDlRfgDnnVD', 'ZGCtHHFGzFHhMlCnDqwlgggsqf', 'FJHMhHZGmNHtJhMhBJZZtZdrbSbSzbmWLLQrQTbPdbrS', 'ZClGVCvLZzCLBVbdGGzVVBvVrqQMDWMHrgmgQLWrWmTgqqHH', 'tNpNspcQPfHmqfgHmHHg', 'nNttnwPRjFtPcccsFptPlllQGlQZbvGzVVVFzhCd', 'lflmVWpDVsMmmVPlHVbbGSSbGnSHJcncnLZn', 'NvTFzNwzTQvhFGSZnvgrbgJCgr', 'jtRwTQFzjBNGGQQBdDsDqqlsVqRflMlPsP', 'rCSJPCrBwwMdBJRCrwMTGWTWNbcjGZNGGZTb', 'qzgqfgFghsHzfgHgmmfWGNGGWcNNFClbWlcCNW', 'DqsnzsHLhddBDwCRJR', 'sZpHjZrVQmcrbhbthzhFHzhH', 'QDPMDMndqqQGqQfCDDbhFtzzLtbWzlBLLPBW', 'TDMDqfGnJSnfnfvgjsjNgJvsjVQv', 'bDZQbZHdQQggZfttJjGnplSnldsG', 'FTrFCvWBWzTNSPNvRBGJsGjpsJjstmCLtjCt', 'rhBvzRVRBBSVHDHcHMHq', 'FSbSNZbZbzGzGGbNzGgcZPwlDPvlNmLLLwLLlLvvvl', 'pqnqpVCrpshqmChsQnnRpRCldDHvDHLjDlvPwddlwPtwDV', 'rRTCnnpCWCChTrWsrBTfbcFFmFSSmfBBGg', 'QdhdWDsHhHWzPrLPSCPGvs', 'gpZZmNmtjZwpBZBZgSnvFcGPrrvmncnvmC', 'RVVRjZJfJVfVBZVtBNBVppZVDqMHhqTbMGlWHQhhWldRMHWd', 'BPWQrRRNNMhrHhLqqGgjDJjH', 'TzVmmpmtCNwscTzszcNzDCfCHJqDfGjDJJgfGCDq', 'wdwmspTsVdlTcpbmVMPWBbBWRPNnFnBWMr', 'VZTnVnsgrjjsqPzPwWgWPghz', 'mcFdQGPMBdMSBdWbhRzzWqwLwcWt', 'GQPBvpfvNvFPBvTnfjnZDHDDjsrr', 'CZssCNFJBmBNFmFBNwBFCJFTtthGrrSThtSgSRtSfRTGtRrg', 'LDpDbnjjDGpggGrvGg', 'PLMWnWQgbQWnWbnbjqDbszHwwzwmNsFZMBmwJFZF', 'hQSjFLhFLLMSSFgdWTMdGgNbNbWv', 'JmPlltJBJqmzpbrrwTwrvvGqww', 'HBzztRBRplzlmHmRmmsplRJZcfFcLFfHSLjSZTcfVVcLVH', 'nBSQMnVQqJBGnfVfDgCrjbVbtC', 'FNcPPHdTdhmBdHBvwlZjbClClfcZgjclgj', 'vFdHWhTLHvnBRRqBsWSR', 'TRsNNTTHRRZRRsRzJQddSpJLcQdpjs', 'DMVPVVGmMGWMGtMgGtDlmMWwLLLpJfSfpjzpdQddLSmSSJdc', 'tVMgGMDwMgMWDBWMttjRBZNnvNCNZrZZRbZNvZ', 'wlJPVMJPPBShSlhgfTvgNNzzgNMCTg', 'FLtRnDDSrvdNdrng', 'FcSmpFZFFmmjWqPWJbmhGqqm', 'hlBqqTlSfvNhpbfb', 'fRVsVDDRtnRVfbDNCCNCNQGwNZ', 'nrrRPPnHzntRrPsRVrtJVBMjlzWfFWdMjjWMqdBBlT', 'zDNcnRsNNfRFFNNzRzLbRWgMZMMZcdhcBdMrBpZmmZ', 'PVHHVlPDGPPtjDmmdrrGBBMpWGWd', 'VVqTTlQtDCqFNzsnbLbCSJ', 'ndSGSZZGwSZTBdwnwdwmWCzPQCQLffZzRgMZRggMzf', 'mvqVmqrmcDqllNNtbcNcMCQMRCMCCMQfHLgvRgMg', 'FhNNcrrVljFcqmTJhwnsmGdJsT', 'wlmLmZLwzvVmVWVmQWzZSFJFDSqFHSSFJHhDqZ', 'RsgpMNcMdRgjDcRFqCSrHSHBCFJr', 'jdncssDNPsbmmwvvlPLw', 'wQGHMrHGgwgVTQrrMGgGQrTtWzzPJhsfhZztWssQWbZCWh', 'FjvBFSqqDbljFvSbnvFltszfWPPfWzJZBCsPtJft', 'qLlDbpjFRbpdGTgLGLGTTV', 'hrVJsBrpwbsMZtTLlwnqtqdc', 'QDDmHWmffHCQWHjRQjCWczTTjtlzdldqVtTnTqLt', 'HmfGfRNWfNWmQCRsgbsMFMhMGvpBVs', 'CRzzVCZhvGQqNmcWrgpgwQFSmF', 'BJsttjDtjbdLMHHsBTqBbBHMrprDSrFnFnSgrnnrpDSmWWnw', 'TbMBMPPdLTbHTjHMtPzZGvzlvqCPGNlNVRVP', 'QcmcrCVcdTCGRRLT', 'zzgWFWVBTSWLPdMP', 'JbhnBVzzfVhgztVDvqcqHwncZHNqnsnccQ', 'JJVBFfJjNNNsJTwVfZJNffFRpRzRzRptRWtCtSSHWsWzCD', 'rmrnhgclhQGcGnhrPjqgGMHbWRHRbRCWbzRbMSSpHWCD', 'mhhjQGGjQgggqnmQnmghdQdJFZBNvZBBLNTvvTNNTLfZ', 'DrBgwMCMRvMrvDgPCzdpdNtzqqlHNNtp', 'jWSSZGgfGjcLfdNjFzqqFFzzFF', 'nGZhTmZLLZhGPVVTgQgMRrrb', 'ppqZvppdJmSLHdSfZRrrtbscgRVVgwVrHt', 'hFFFzQPhNWzNhnhGVggrcbwVgBnvbwgR', 'CNQWFMzWWhCflpjvZJMJdj', 'pfpfmQMWmcBVfMBBmpfVQMbDGGNPDTcSNTTsSNPCCNhC', 'ZZrZwvvzZrvZlZlwhwswhNSsgbDssC', 'ttvdtzRzFDqRJWLVLWJJpQ', 'CZZPTQPTPTJhTQTrHCBbvtLbbbRWtjbDvb', 'cGfsVSVcLdSgSwBWRNNGwRNRbD', 'spSffnccsgcdnnJJQlZZqJLhpMJh', 'TwGGdWwdddtTsbzPzbbnTLnPLP', 'gqNSMvtvcSDLLfnMnnPzFM', 'NvDNDqtvRcjQVGZZGZZhwpQB', 'jtgFmnqjqttQpsphzNllblzlNH', 'GRMRDMGCVCHzSCbSbNNl', 'LMTJRTGRLBJBwLRRHmBFQPvqmPBvtgtc', 'jDjjwRDpPqqsMsDLJbJzVB', 'lMNMNddvMltNfFVWbVVWJrrVLfgL', 'NQQtmtFGFlGZPZcMmmcjjn', 'CgCNjvSCgSQQzVZNWVnTBPTcsTVBnpPs', 'bFbbLfbfdRBFhLwqFmblBJfRHtWcttcttlDpspcPWDcDptPn', 'mdbFhfJrmJwfbmmFFFvBZCNCzMGrNjMQjCCZ', 'TPDNHHSTNNmRfTrRMZSqwwttdbBvBMth', 'VVnnFGgnQcBvMqvnhNBN', 'GLzjjzGscssJGJCHljmfmTWPTCDN', 'BZZNcMQjBNjNtDJgstjgtwqGRQfhGhSvPfThfqvPhfhf', 'CCndrnmnnWbrnHrFbWbpbbVmGGPqLfTGhvGSPhqRLRdfSGsf', 'bFssVbbblFHzrmFlMNMtcNgDtJDzZgtw', 'smjMtSqQQSjtSfmDVVFHFhnHBHmbNPPH', 'TgvCCJcZdwdgNvbHvPbbvBNq', 'JLqRWTgLqJLCJcclgCJdWjfsSSpsfRrsQjDtspptQQ', 'hNwztzgzJnnNTVFwNTNhwVhZlrpLMLZZlpZlQndLPLpQLZ', 'vRDvqSSqjbqSWDvjbvBdLWspPLddZPQQLMllLp', 'SfGfRmSGCSfBfjTcNFgzwMFJzwgm', 'lhVBhZjjPHbThwFGrNrdvNNwFV', 'DRrDLfMLSgpCdCJcfmcJCm', 'LQtnprtqSRtZjHzTthlb', 'GrGsqfbtsWGWWntnrrwWWWGSSDSMDcSSSwTDzPzJSJzPcT', 'lmQhhVCgmffCNgmNNmCmBNRRPvDzDMhJvSSDJzzcTzvvPvMT', 'VBllNBpfQgQmpLBpRBtnqWLFFnZZWWGrZrjq', 'NRJdngMVwfgnwJtvlblcWLlLDHfccDbW', 'PFJzBmhmjPFpJrFqLcQHLlHGDlHDQbGz', 'ShJZJmPFpwdMvCCZRd', 'WQDqSVWqpBCsPqPWWNscfrHfhrhrHhGFGs', 'MmLRmLTjmTzTzlhGHfprhvfFhHfT', 'mLZLRdgMRjtdddmdgwmtMwQSCPbnDSSCqBDwpWPQqn', 'rNHwMMGDrggWwsvWMPMWWwjbCqjCBlZqvfjBqCJhfffj', 'FbtFmRTpzBBZqCClpJ', 'ztbzFtnzVNnNNPPDGD', 'PLPFcwdLdFcbgdfSwFtWhGWGRMWMJMGCblJR', 'qTpszVVjRlCHtWCT', 'qzvrDqQrqznzggFZwFwQScdW', 'LWLjLNjNjTwlwLZVcBVcVVZcBVQcZZ', 'JhGhFdmBRdGGDnQtbPvVVdnccS', 'zDrrFGFFRgRHmDNWTpjTBNTHWNjW', 'fwfBVLhmwfhHsgBstWCWQnDQnlldWW', 'hZvFTNJrZjZbFvNvttqWWDtcWqCtFDWn', 'rbjjrjpRzRzgBLzwLgmzLh', 'ZqqqWVzdSPnwBJBfwJfZTs', 'FHGgjRLMJFsJTsBw', 'DHRcDgHvLhDWPSCzwqnq', 'LZGZLLRLZpRQBtPTjTffrHljjmsB', 'wNVVwcCgNCCScwggmjHjTPmQPsTHmlSs', 'gbbwbqhNCQcbqqVchWhtRZDJWJDtZLWL', 'CmTmvvmvzCCCgzzVQmTQvTjjGRGShwSHwRrRSSSSDNHSFN', 'PqZqWdqlplsqBJMMsMMnGRJRbbNwNhrrhShGShFD', 'fBWBWdZppqpqDMBdlfcTCTLtLtLCQfQvcmgv', 'pntdtdHHWHqnptGpqHqNgMQwPPPnZMZZZZcfgc', 'LFmLSVBRTSBBRrffTQgMfQMtJZQT', 'bmRCSSSjRCtSrRChjqqGqpppGhqDGp', 'dGGhhfNfgRTGLcpL', 'BmCCwQMQqmQrBCBJLpbVTFbHcgcbLTMc', 'JrpqJJmqqqqmzqqwmwNlzfvltDPltfshlhNN', 'VCCbMJfJlgRCnNGVNnvFvVBF', 'STsgcZdghZsqSttBnsGnBtBtHt', 'qDcjgDphjhSghZTQgCJWQWWfwfRzWlwJzJ', 'JHMVMvmvRcdbmrRHQBBGjcjfFQfChSfj', 'NltNtZllgZtgtnpnqNWpgCrCBQzBGzFhQrGSSBCzWh', 'pDrwnqLlvDVmPbss', 'dbrpbSrwBjswsSjCwqllLqFtqLcrGqqFtF', 'RvfJDQnRpHvvQfRvvQRJFDqzcWltFFlzcLttWltW', 'ZpnRVZHmvHnTnPZZPHfHmVwdjVghwgVSBgdBBCwgdC', 'WRCBGWvNgHnMcFwnpC', 'ltlstrjlJNlfrZZqDJtNLsHnmwwpcHphhFPMFjwhmnFp', 'TStJssLstJLtqTsNgvvSBNzzvWvGRz', 'VBjdWdGcqWdBVCFRmHwfCRRV', 'DLzNpqbDzDNbrJvltMLJLRRmtRFTSRmTmFwfRHRTFf', 'zvvJNLgNqGcnjgnP', 'JjdnFfbdbdQMbQzjtRcwcCvbvBqRBCwt', 'LlNHlWGprPCVVBsVzqNR', 'hLmgTlrpPPHrLprHrTTGggHWzhZFSJDfhMdnjjZfFfdFMjFz', 'bDbwRpCSRgqqMfMf', 'HzzPcPnhzlhsQzHhHnTggBBqTQTgVQqBqjZW', 'tnsrFccnzsDvGpNGqNtq', 'GmPsPrsSlswNmcLzMvnpnmMpLBCf', 'glDTZRDqRTjRCvjvfBpfCzvp', 'DHlJVhJRDTbqZDqSNVrNwtVrQwSSGs', 'nNnDwqDwFVgDwDnCgLnLpCVWdBMRpsPdMPPjRHRHHRdBWj', 'tQtfTtJtJmlTQrTtTlhfzrmdHzMMRMsBPPddjddBPPdWsB', 'bbhtQTfTTsmmbStnqGFGNDbFDgFVnw', 'dsVpDPBMHVdHpplpvdHjRjmmjRTMTFFrrTTFQq', 'LzzWZLGCzCWNjfmRfBhmQjZq', 'zSSSwJwSBzNtzLBbwbSGLzWVvcvpHdssDllVJgVHVcdDPv', 'RWfQBDTBLQWpDLNRZjZwHHddjHNhZdtv', 'ScCCzSszFzJccPHHvmjHvjhpmHsj', 'FPclgFVCbcngVgnpWQqqRfLBDBrR', 'cRLLVwcsctwmbVcszztwtRMvNrCpTggqFrTvvhCVpghBqh', 'PdSDGdnZQfGDfDjWjWWgvCqFhpqvpNZgCTTvrp', 'dGnDHWnSQdJPDSFLLcJmRzzLLLRRcl', 'lCSqlcCcBqBCCwGwnNWnnFwBHF', 'WMZLMPbPhQddRbMpbbLbRLLHDFgjFGDmFNZgNnDGNHGGjD', 'dTVPPQbPbMdQMzvVrWvczrCJqv', 'vzscdHcHZzHzCCHlQTTTCcslMGPStmSlpDDSSSgSPDNBmNtl', 'FWVMFhFMMqWhFVFbDBDDhpmpGtPSDpGG', 'fRLbFfwWWLnVjMdzzQHQJnnvQs', 'SmPdRbWZdSqqzSPmbdWFFQgcQnvncgQGQMMT', 'BfBLmVNjprVVNlVBrpBlHpNrgQFHGCGgvTQTMGFFgMCvgQcQ', 'BjjJfVLBfNffJbZDqtDsdzzm', 'NLgtLsSggjqgqpLLDjsjmcJfvpmFmmJmvPpwhBJB', 'lMnlZMtdCMrRRnRbTddWbVwcmPfFmhJwPfwJmvfwFvPl', 'MnRrnGWRbgQqtNGDjt', 'dSdrTbTtLJCcttcFVw', 'PhsgQQGPZshvpQZGgsrBllVFlHVpFllJJrFH', 'gqsGPgMZhgvQbzrzTfSzMTLf', 'pqbDdQWqCgBfbbfFfB', 'vtjnmzLcmhBdzTFgTsRP', 'LZGmjvJGGctnLtvcchSjmhcLqNHCwVdQZwDwWDNpCwqHdDwQ', 'wlMWSSHWShSMbDSwVhCrNjJmcrDmGRRCGCjN', 'FHZdHftFFQnqsQqsQttjvGrJccmdGGcrNdRNmG', 'pHpzPpQHpsPzPlzlbSgSSMLwzh', 'fCQDLlDQTSjbHDqH', 'ZhrsrZZZhcclwNswGGwbwF', 'rcWhlhlpMJpMZmgtBCzCttCCRfdp', 'zLnCMLNTvtGNpNvNjhRHgZhHvZdZHdjD', 'fSsWWqScTfJJqfJFFJwswhdHhhhdhDdjbjZbhhDj', 'WsWmfcqBWfTfsrntrLmplCLttm', 'ljssbqMMPbHPlsbcWZNLLsWJWRFvvZfW', 'SzgggDDwTzrQmDQgdSSWvdJLFGffRvZG', 'zCzCDCrznnTTmCbbpvlPHtCPtb', 'TZSwNPpcgpNPbwbhhbwrwJqh', 'BlCDtvvgLWGCLffGfLzLrMqnnbDDHbmnnnJrhnVJ', 'lzBjdCjCGCjfGjjLGBGGjlCSsRppcdpRNdRSPQcRPQZTgT', 'TsFTrvGmZGfvZfZFzNNZrhClmRcBgCMwQwQPCPMPRP', 'bpnnVVJtSDgRBwbQRwlR', 'jpSnqLpqDJDJLDjWDWLWvvzfZZvqvNsGTHGGFfZl', 'bzbzznqfCpzvhCSMfbCbpCFhtHGHHJdtHJGhFsmshJJG', 'DLWRLjRrmNPQjZZlQPsFGFggVcWcFddggdsg', 'rjrZPwwDRlLLBjQlRRlPDpmbqzpqnnCSCfTMwMqSvC', 'FmcGcjLRPjQwQjMQrwHQ', 'btJzJbVNdBJJtzTdGBbdBztGrQhhQWhMwHrhrHSHgHQfhMVS', 'JJDpdDTtCtzNptnTJBznnvLCCvcFqsRqFcvZclLGRR']\n"
     ]
    }
   ],
   "source": [
    "with open('input.txt', 'r') as f:\n",
    "    lines = f.readlines()\n",
    "n = len(lines)\n",
    "for i in range(n):\n",
    "    lines[i] = lines[i].strip()\n",
    "print(lines)"
   ]
  },
  {
   "cell_type": "code",
   "execution_count": 2,
   "id": "7f73e2f6",
   "metadata": {},
   "outputs": [
    {
     "name": "stdout",
     "output_type": "stream",
     "text": [
      "8072\n"
     ]
    }
   ],
   "source": [
    "count = 0\n",
    "for line in lines:\n",
    "    n = len(line)\n",
    "    half1 = line[:n//2]\n",
    "    half2 = line[n//2:]\n",
    "    sharedChar = ''\n",
    "    for x in half1:\n",
    "        if x in half2:\n",
    "            sharedChar = x\n",
    "    asc = ord(sharedChar)\n",
    "    if asc>=65 and asc <=90:\n",
    "        count += asc - 38\n",
    "    else:\n",
    "        count += asc - 96\n",
    "print(count)"
   ]
  },
  {
   "cell_type": "code",
   "execution_count": 5,
   "id": "f849d151",
   "metadata": {},
   "outputs": [
    {
     "name": "stdout",
     "output_type": "stream",
     "text": [
      "2567\n"
     ]
    }
   ],
   "source": [
    "count = 0\n",
    "n = len(lines)\n",
    "for i in range(0,n,3):\n",
    "    sharedChar = ''\n",
    "    for x in lines[i]:\n",
    "        if x in lines[i+1] and x in lines[i+2]:\n",
    "            sharedChar = x\n",
    "    asc = ord(sharedChar)\n",
    "    if asc>=65 and asc <=90:\n",
    "        count += asc - 38\n",
    "    else:\n",
    "        count += asc - 96\n",
    "print(count)"
   ]
  }
 ],
 "metadata": {
  "kernelspec": {
   "display_name": "Python 3 (ipykernel)",
   "language": "python",
   "name": "python3"
  },
  "language_info": {
   "codemirror_mode": {
    "name": "ipython",
    "version": 3
   },
   "file_extension": ".py",
   "mimetype": "text/x-python",
   "name": "python",
   "nbconvert_exporter": "python",
   "pygments_lexer": "ipython3",
   "version": "3.9.7"
  }
 },
 "nbformat": 4,
 "nbformat_minor": 5
}
