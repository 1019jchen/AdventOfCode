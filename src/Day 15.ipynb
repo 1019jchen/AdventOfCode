{
 "cells": [
  {
   "cell_type": "code",
   "execution_count": null,
   "id": "a3914b8f",
   "metadata": {},
   "outputs": [],
   "source": [
    "import collections\n",
    "import pandas as pd\n",
    "import functools\n",
    "from functools import lru_cache"
   ]
  },
  {
   "cell_type": "code",
   "execution_count": 20,
   "id": "4a3c57ce",
   "metadata": {},
   "outputs": [
    {
     "data": {
      "text/plain": [
       "[[325337, 2568863, -518661, 2000000],\n",
       " [3988825, 837820, 4305648, 2127118],\n",
       " [1611311, 2053174, 2827226, 1579510],\n",
       " [101890, 3940049, 955472, 3457514],\n",
       " [3962702, 2558425, 4226981, 2604726],\n",
       " [2957890, 2160813, 2827226, 1579510],\n",
       " [3907456, 3325610, 3696221, 3226373],\n",
       " [3354177, 3435919, 3696221, 3226373],\n",
       " [3997379, 3071868, 3696221, 3226373],\n",
       " [145143, 1714962, -518661, 2000000],\n",
       " [611563, 3148864, 955472, 3457514],\n",
       " [3080405, 3904777, 3696221, 3226373],\n",
       " [644383, 10732, 364635, -294577],\n",
       " [3229566, 1694167, 2827226, 1579510],\n",
       " [1600637, 3984884, 955472, 3457514],\n",
       " [2959765, 2820860, 2491502, 2897876],\n",
       " [2235330, 3427797, 2491502, 2897876],\n",
       " [2428996, 210881, 2827226, 1579510],\n",
       " [369661, 687805, 364635, -294577],\n",
       " [3558476, 2123614, 4305648, 2127118],\n",
       " [3551529, 2825104, 3696221, 3226373],\n",
       " [64895, 3577, 364635, -294577],\n",
       " [3079531, 1538659, 2827226, 1579510]]"
      ]
     },
     "execution_count": 20,
     "metadata": {},
     "output_type": "execute_result"
    }
   ],
   "source": [
    "with open('../inputs/input15.txt', 'r') as f:\n",
    "    lines = f.readlines()\n",
    "n = len(lines)\n",
    "for i in range(n):\n",
    "    lines[i] = lines[i].strip()\n",
    "    lines[i] = lines[i].replace(\":\", \",\")\n",
    "    lines[i] = lines[i].split(\",\")\n",
    "sensors = []\n",
    "for line in lines:\n",
    "    temp = []\n",
    "    temp.append(int(line[0][12:]))\n",
    "    temp.append(int(line[1][3:]))\n",
    "    temp.append(int(line[2][24:]))\n",
    "    temp.append(int(line[3][3:]))\n",
    "    sensors.append(temp)\n",
    "sensors"
   ]
  },
  {
   "cell_type": "code",
   "execution_count": 2,
   "id": "accf39f3",
   "metadata": {},
   "outputs": [],
   "source": [
    "def manhattan_distance(x1,y1,x2,y2):\n",
    "    return abs(x2-x1)+abs(y2-y1)"
   ]
  },
  {
   "cell_type": "code",
   "execution_count": 3,
   "id": "8707855e",
   "metadata": {},
   "outputs": [
    {
     "data": {
      "text/plain": [
       "{(-518661, 2000000),\n",
       " (364635, -294577),\n",
       " (955472, 3457514),\n",
       " (2491502, 2897876),\n",
       " (2827226, 1579510),\n",
       " (3696221, 3226373),\n",
       " (4226981, 2604726),\n",
       " (4305648, 2127118)}"
      ]
     },
     "execution_count": 3,
     "metadata": {},
     "output_type": "execute_result"
    }
   ],
   "source": [
    "def set_beacons():\n",
    "    beacons = set()\n",
    "    for sensor in sensors:\n",
    "        beacons.add((sensor[2], sensor[3]))\n",
    "    return beacons\n",
    "beacons = set_beacons()\n",
    "beacons"
   ]
  },
  {
   "cell_type": "code",
   "execution_count": 4,
   "id": "812598e9",
   "metadata": {},
   "outputs": [],
   "source": [
    "not_beacons = set()\n",
    "def distance_from_y(sensor_data, row_y):\n",
    "    x_s = sensor_data[0]\n",
    "    y_s = sensor_data[1]\n",
    "    x_b = sensor_data[2]\n",
    "    y_b = sensor_data[3]\n",
    "    total_dist = manhattan_distance(x_s, y_s, x_b, y_b)\n",
    "    if y_s>row_y:\n",
    "        dist_remaining = total_dist - (y_s - row_y)\n",
    "    else:\n",
    "        dist_remaining = total_dist - (row_y - y_s)\n",
    "    if dist_remaining>=0:\n",
    "        for i in range(dist_remaining+1):\n",
    "            test_x = x_s+i\n",
    "            test_y = row_y\n",
    "            if (test_x,test_y) not in beacons:\n",
    "                not_beacons.add((test_x,test_y))\n",
    "            test_x = x_s-i\n",
    "            if (test_x,test_y) not in beacons:\n",
    "                not_beacons.add((test_x,test_y))"
   ]
  },
  {
   "cell_type": "code",
   "execution_count": 6,
   "id": "f5e4ebda",
   "metadata": {},
   "outputs": [
    {
     "data": {
      "text/plain": [
       "4951427"
      ]
     },
     "execution_count": 6,
     "metadata": {},
     "output_type": "execute_result"
    }
   ],
   "source": [
    "#Answer to Part 1\n",
    "not_beacons = set()\n",
    "for sensor in sensors:\n",
    "    distance_from_y(sensor, 2000000)\n",
    "len(not_beacons)"
   ]
  },
  {
   "cell_type": "code",
   "execution_count": 21,
   "id": "58b1b404",
   "metadata": {},
   "outputs": [
    {
     "data": {
      "text/plain": [
       "[(325337, 2568863, 1412861),\n",
       " (3988825, 837820, 1606121),\n",
       " (1611311, 2053174, 1689579),\n",
       " (101890, 3940049, 1336117),\n",
       " (3962702, 2558425, 310580),\n",
       " (2957890, 2160813, 711967),\n",
       " (3907456, 3325610, 310472),\n",
       " (3354177, 3435919, 551590),\n",
       " (3997379, 3071868, 455663),\n",
       " (145143, 1714962, 948842),\n",
       " (611563, 3148864, 652559),\n",
       " (3080405, 3904777, 1294220),\n",
       " (644383, 10732, 585057),\n",
       " (3229566, 1694167, 516997),\n",
       " (1600637, 3984884, 1172535),\n",
       " (2959765, 2820860, 545279),\n",
       " (2235330, 3427797, 786093),\n",
       " (2428996, 210881, 1766859),\n",
       " (369661, 687805, 987408),\n",
       " (3558476, 2123614, 750676),\n",
       " (3551529, 2825104, 545961),\n",
       " (64895, 3577, 597894),\n",
       " (3079531, 1538659, 293156)]"
      ]
     },
     "execution_count": 21,
     "metadata": {},
     "output_type": "execute_result"
    }
   ],
   "source": [
    "sensors_and_dists = []\n",
    "for sensor in sensors:\n",
    "    sensors_and_dists.append((sensor[0], sensor[1], manhattan_distance(sensor[0], sensor[1], sensor[2], sensor[3])))\n",
    "sensors_and_dists"
   ]
  },
  {
   "cell_type": "code",
   "execution_count": 23,
   "id": "5a8d896d",
   "metadata": {},
   "outputs": [
    {
     "name": "stdout",
     "output_type": "stream",
     "text": [
      "3257428 2573243\n",
      "3257428 2573243\n",
      "3257428 2573243\n",
      "3257428 2573243\n"
     ]
    }
   ],
   "source": [
    "for sensor in sensors:\n",
    "    dist_to_check = manhattan_distance(sensor[0], sensor[1], sensor[2], sensor[3])+1\n",
    "    for dy in range(dist_to_check + 1):\n",
    "        dx = dist_to_check - dy\n",
    "        if sensor[0]+dx>=0 and sensor[0]+dx<=4000000 and sensor[1]+dy>=0 and sensor[1]+dy<=4000000:\n",
    "            is_valid = True\n",
    "            for s in sensors_and_dists:\n",
    "                if manhattan_distance(s[0], s[1], sensor[0]+dx, sensor[1]+dy) <= s[2]:\n",
    "                    is_valid = False\n",
    "            if is_valid:\n",
    "                print(sensor[0]+dx, sensor[1]+dy)\n",
    "        if sensor[0]+dx>=0 and sensor[0]+dx<=4000000 and sensor[1]-dy>=0 and sensor[1]-dy<=4000000:\n",
    "            is_valid = True\n",
    "            for s in sensors_and_dists:\n",
    "                if manhattan_distance(s[0], s[1], sensor[0]+dx, sensor[1]-dy) <= s[2]:\n",
    "                    is_valid = False\n",
    "            if is_valid:\n",
    "                print(sensor[0]+dx, sensor[1]-dy)\n",
    "        if sensor[0]-dx>=0 and sensor[0]-dx<=4000000 and sensor[1]-dy>=0 and sensor[1]-dy<=4000000:\n",
    "            is_valid = True\n",
    "            for s in sensors_and_dists:\n",
    "                if manhattan_distance(s[0], s[1], sensor[0]-dx, sensor[1]-dy) <= s[2]:\n",
    "                    is_valid = False\n",
    "            if is_valid:\n",
    "                print(sensor[0]-dx, sensor[1]-dy)\n",
    "        if sensor[0]-dx>=0 and sensor[0]-dx<=4000000 and sensor[1]+dy>=0 and sensor[1]+dy<=4000000:\n",
    "            is_valid = True\n",
    "            for s in sensors_and_dists:\n",
    "                if manhattan_distance(s[0], s[1], sensor[0]-dx, sensor[1]+dy) <= s[2]:\n",
    "                    is_valid = False\n",
    "            if is_valid:\n",
    "                print(sensor[0]-dx, sensor[1]+dy)"
   ]
  },
  {
   "cell_type": "code",
   "execution_count": null,
   "id": "a8ab0b3e",
   "metadata": {},
   "outputs": [],
   "source": [
    "#Answer to Part 2 (Just plug in numbers from the above output)\n",
    "print(3257428*4000000+2573243)"
   ]
  }
 ],
 "metadata": {
  "kernelspec": {
   "display_name": "Python 3 (ipykernel)",
   "language": "python",
   "name": "python3"
  },
  "language_info": {
   "codemirror_mode": {
    "name": "ipython",
    "version": 3
   },
   "file_extension": ".py",
   "mimetype": "text/x-python",
   "name": "python",
   "nbconvert_exporter": "python",
   "pygments_lexer": "ipython3",
   "version": "3.9.7"
  }
 },
 "nbformat": 4,
 "nbformat_minor": 5
}
