{
 "cells": [
  {
   "cell_type": "code",
   "execution_count": null,
   "id": "a3914b8f",
   "metadata": {},
   "outputs": [],
   "source": [
    "import collections\n",
    "import pandas as pd\n",
    "import functools\n",
    "from functools import lru_cache"
   ]
  },
  {
   "cell_type": "code",
   "execution_count": 96,
   "id": "4a3c57ce",
   "metadata": {},
   "outputs": [
    {
     "data": {
      "text/plain": [
       "[[325337, 2568863, -518661, 2000000],\n",
       " [3988825, 837820, 4305648, 2127118],\n",
       " [1611311, 2053174, 2827226, 1579510],\n",
       " [101890, 3940049, 955472, 3457514],\n",
       " [3962702, 2558425, 4226981, 2604726],\n",
       " [2957890, 2160813, 2827226, 1579510],\n",
       " [3907456, 3325610, 3696221, 3226373],\n",
       " [3354177, 3435919, 3696221, 3226373],\n",
       " [3997379, 3071868, 3696221, 3226373],\n",
       " [145143, 1714962, -518661, 2000000],\n",
       " [611563, 3148864, 955472, 3457514],\n",
       " [3080405, 3904777, 3696221, 3226373],\n",
       " [644383, 10732, 364635, -294577],\n",
       " [3229566, 1694167, 2827226, 1579510],\n",
       " [1600637, 3984884, 955472, 3457514],\n",
       " [2959765, 2820860, 2491502, 2897876],\n",
       " [2235330, 3427797, 2491502, 2897876],\n",
       " [2428996, 210881, 2827226, 1579510],\n",
       " [369661, 687805, 364635, -294577],\n",
       " [3558476, 2123614, 4305648, 2127118],\n",
       " [3551529, 2825104, 3696221, 3226373],\n",
       " [64895, 3577, 364635, -294577],\n",
       " [3079531, 1538659, 2827226, 1579510]]"
      ]
     },
     "execution_count": 96,
     "metadata": {},
     "output_type": "execute_result"
    }
   ],
   "source": [
    "with open('../inputs/input15.txt', 'r') as f:\n",
    "    lines = f.readlines()\n",
    "n = len(lines)\n",
    "for i in range(n):\n",
    "    lines[i] = lines[i].strip()\n",
    "    lines[i] = lines[i].replace(\":\", \",\")\n",
    "    lines[i] = lines[i].split(\",\")\n",
    "sensors = []\n",
    "for line in lines:\n",
    "    temp = []\n",
    "    temp.append(int(line[0][12:]))\n",
    "    temp.append(int(line[1][3:]))\n",
    "    temp.append(int(line[2][24:]))\n",
    "    temp.append(int(line[3][3:]))\n",
    "    sensors.append(temp)\n",
    "sensors"
   ]
  },
  {
   "cell_type": "code",
   "execution_count": 48,
   "id": "accf39f3",
   "metadata": {},
   "outputs": [],
   "source": [
    "def manhattan_distance(x1,y1,x2,y2):\n",
    "    return abs(x2-x1)+abs(y2-y1)"
   ]
  },
  {
   "cell_type": "code",
   "execution_count": 49,
   "id": "8707855e",
   "metadata": {},
   "outputs": [
    {
     "data": {
      "text/plain": [
       "{(-518661, 2000000),\n",
       " (364635, -294577),\n",
       " (955472, 3457514),\n",
       " (2491502, 2897876),\n",
       " (2827226, 1579510),\n",
       " (3696221, 3226373),\n",
       " (4226981, 2604726),\n",
       " (4305648, 2127118)}"
      ]
     },
     "execution_count": 49,
     "metadata": {},
     "output_type": "execute_result"
    }
   ],
   "source": [
    "def set_beacons():\n",
    "    beacons = set()\n",
    "    for sensor in sensors:\n",
    "        beacons.add((sensor[2], sensor[3]))\n",
    "    return beacons\n",
    "beacons = set_beacons()\n",
    "beacons"
   ]
  },
  {
   "cell_type": "code",
   "execution_count": 50,
   "id": "812598e9",
   "metadata": {},
   "outputs": [],
   "source": [
    "not_beacons = set()\n",
    "def distance_from_y(sensor_data, row_y):\n",
    "    x_s = sensor_data[0]\n",
    "    y_s = sensor_data[1]\n",
    "    x_b = sensor_data[2]\n",
    "    y_b = sensor_data[3]\n",
    "    total_dist = manhattan_distance(x_s, y_s, x_b, y_b)\n",
    "    if y_s>row_y:\n",
    "        dist_remaining = total_dist - (y_s - row_y)\n",
    "    else:\n",
    "        dist_remaining = total_dist - (row_y - y_s)\n",
    "    if dist_remaining>=0:\n",
    "        for i in range(dist_remaining+1):\n",
    "            test_x = x_s+i\n",
    "            test_y = row_y\n",
    "            if (test_x,test_y) not in beacons:\n",
    "                not_beacons.add((test_x,test_y))\n",
    "            test_x = x_s-i\n",
    "            if (test_x,test_y) not in beacons:\n",
    "                not_beacons.add((test_x,test_y))"
   ]
  },
  {
   "cell_type": "code",
   "execution_count": 52,
   "id": "f5e4ebda",
   "metadata": {},
   "outputs": [
    {
     "data": {
      "text/plain": [
       "4951427"
      ]
     },
     "execution_count": 52,
     "metadata": {},
     "output_type": "execute_result"
    }
   ],
   "source": [
    "#Answer to Part 1\n",
    "not_beacons = set()\n",
    "for sensor in sensors:\n",
    "    distance_from_y(sensor, 2000000)\n",
    "len(not_beacons)"
   ]
  },
  {
   "cell_type": "code",
   "execution_count": 92,
   "id": "d3268a21",
   "metadata": {},
   "outputs": [
    {
     "name": "stderr",
     "output_type": "stream",
     "text": [
      "\n",
      "KeyboardInterrupt\n",
      "\n"
     ]
    }
   ],
   "source": [
    "#This worked for the example case, but this idea completely does not work for the actual because of space issues.\n",
    "#Use dim to represent the dimension of the possible grid\n",
    "dim = 4000000\n",
    "#True = Possible\n",
    "#False = Impossible\n",
    "grid = [[True]*dim for x in range(dim)]\n",
    "for sensor in sensors:\n",
    "    if sensor[0]>=0 and sensor[0]<dim and sensor[1]>=0 and sensor[1]<dim:\n",
    "        grid[sensor[0]][sensor[1]] = False\n",
    "    if sensor[2]>=0 and sensor[2]<dim and sensor[3]>=0 and sensor[3]<dim:\n",
    "        grid[sensor[2]][sensor[3]] = False"
   ]
  },
  {
   "cell_type": "code",
   "execution_count": 75,
   "id": "79038a4f",
   "metadata": {},
   "outputs": [
    {
     "name": "stdout",
     "output_type": "stream",
     "text": [
      "..S..................\n",
      "....................S\n",
      ".............S.......\n",
      "..............SB.....\n",
      ".....................\n",
      ".....................\n",
      ".....................\n",
      "........S.......S....\n",
      ".....................\n",
      ".....................\n",
      "..B..................\n",
      "S....................\n",
      ".....................\n",
      ".....................\n",
      "............S.......S\n",
      ".....................\n",
      ".........SB..........\n",
      "..............S......\n",
      "..S..................\n",
      ".....................\n",
      "..........S......S...\n"
     ]
    }
   ],
   "source": [
    "#Debugging purposes only\n",
    "def print_grid():\n",
    "    for j in range(dim):\n",
    "        row = \"\"\n",
    "        for i in range(dim):\n",
    "            row += grid[i][j]\n",
    "        print(row)\n",
    "print_grid()"
   ]
  },
  {
   "cell_type": "code",
   "execution_count": 85,
   "id": "456ae2c1",
   "metadata": {},
   "outputs": [],
   "source": [
    "#This worked for the example case, but this idea completely does not work for the actual because of space issues.\n",
    "directions = [[-1,-1], [1,1], [-1,1], [1,-1]]\n",
    "def fill_in(sensor_data):\n",
    "    x_s = sensor_data[0]\n",
    "    y_s = sensor_data[1]\n",
    "    x_b = sensor_data[2]\n",
    "    y_b = sensor_data[3]\n",
    "    total_dist = manhattan_distance(x_s, y_s, x_b, y_b)\n",
    "    for d in range(1,total_dist+1):\n",
    "        for x in range(d+1):\n",
    "            for direction in directions:\n",
    "                new_x = x_s + direction[0] * x\n",
    "                new_y = y_s + direction[1] * (d-x)\n",
    "                if new_x>=0 and new_x<dim and new_y>=0 and new_y<dim and grid[new_x][new_y] == True:\n",
    "                    grid[new_x][new_y] = False"
   ]
  },
  {
   "cell_type": "code",
   "execution_count": 89,
   "id": "3c07b1ab",
   "metadata": {},
   "outputs": [
    {
     "name": "stdout",
     "output_type": "stream",
     "text": [
      "56000011\n"
     ]
    }
   ],
   "source": [
    "#This worked for the example case, but this idea completely does not work for the actual because of space issues.\n",
    "for sensor in sensors:\n",
    "    fill_in(sensor)\n",
    "for i in range(dim):\n",
    "    for j in range(dim):\n",
    "        if grid[i][j] == True:\n",
    "            print(4000000*i+j)"
   ]
  },
  {
   "cell_type": "code",
   "execution_count": null,
   "id": "d983e075",
   "metadata": {},
   "outputs": [],
   "source": [
    "dim = 4000000\n",
    "set_beacons()\n",
    "for y in range(dim+1):\n",
    "    not_beacons = set()\n",
    "    for sensor in sensors:\n",
    "        distance_from_y(sensor, y)\n",
    "    for x in range(dim+1):\n",
    "        if (x,y) not in not_beacons:\n",
    "            print(x,y)"
   ]
  },
  {
   "cell_type": "code",
   "execution_count": null,
   "id": "b70f8b28",
   "metadata": {},
   "outputs": [],
   "source": []
  }
 ],
 "metadata": {
  "kernelspec": {
   "display_name": "Python 3 (ipykernel)",
   "language": "python",
   "name": "python3"
  },
  "language_info": {
   "codemirror_mode": {
    "name": "ipython",
    "version": 3
   },
   "file_extension": ".py",
   "mimetype": "text/x-python",
   "name": "python",
   "nbconvert_exporter": "python",
   "pygments_lexer": "ipython3",
   "version": "3.9.7"
  }
 },
 "nbformat": 4,
 "nbformat_minor": 5
}
