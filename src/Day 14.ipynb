{
 "cells": [
  {
   "cell_type": "code",
   "execution_count": 28,
   "id": "a3914b8f",
   "metadata": {},
   "outputs": [],
   "source": [
    "import collections\n",
    "import pandas as pd\n",
    "import functools"
   ]
  },
  {
   "cell_type": "code",
   "execution_count": 30,
   "id": "4a3c57ce",
   "metadata": {},
   "outputs": [],
   "source": [
    "with open('../inputs/input14.txt', 'r') as f:\n",
    "    lines = f.readlines()\n",
    "n = len(lines)\n",
    "for i in range(n):\n",
    "    lines[i] = lines[i].strip()\n",
    "    lines[i] = lines[i].split(\"->\")\n",
    "    for j in range(len(lines[i])):\n",
    "        lines[i][j] = lines[i][j].split(\",\")\n",
    "        lines[i][j][0] = int(lines[i][j][0])\n",
    "        lines[i][j][1] = int(lines[i][j][1])"
   ]
  },
  {
   "cell_type": "code",
   "execution_count": 31,
   "id": "accf39f3",
   "metadata": {},
   "outputs": [
    {
     "data": {
      "text/plain": [
       "169"
      ]
     },
     "execution_count": 31,
     "metadata": {},
     "output_type": "execute_result"
    }
   ],
   "source": [
    "#Find maximum depth\n",
    "max_depth = 0\n",
    "for i in range(n):\n",
    "    for j in range(len(lines[i])):\n",
    "        max_depth = max(max_depth, lines[i][j][1])\n",
    "max_depth"
   ]
  },
  {
   "cell_type": "code",
   "execution_count": 22,
   "id": "812598e9",
   "metadata": {},
   "outputs": [],
   "source": [
    "def resetRocks():\n",
    "    rocks = set()\n",
    "    for rock in lines:\n",
    "        m = len(rock)\n",
    "        #Fill in distances\n",
    "        for i in range(m-1):\n",
    "            x1 = rock[i][0]\n",
    "            y1 = rock[i][1]\n",
    "            x2 = rock[i+1][0]\n",
    "            y2 = rock[i+1][1]\n",
    "            dx = x2-x1\n",
    "            dy = y2-y1\n",
    "            #Four cases: line goes up, down, right, left\n",
    "            if dx==0:\n",
    "                #line goes down\n",
    "                if dy>0:\n",
    "                    for dist in range(dy+1):\n",
    "                        rocks.add((x1,y1+dist))\n",
    "                #line goes up\n",
    "                elif dy<0:\n",
    "                    dy = abs(dy)\n",
    "                    for dist in range(dy+1):\n",
    "                        rocks.add((x1,y1-dist))\n",
    "            elif dy==0:\n",
    "                #line goes right\n",
    "                if dx>0:\n",
    "                    for dist in range(dx+1):\n",
    "                        rocks.add((x1+dist, y1))\n",
    "                #line goes left\n",
    "                elif dx<0:\n",
    "                    dx = abs(dx)\n",
    "                    for dist in range(dx+1):\n",
    "                        rocks.add((x1-dist, y1))   \n",
    "    return rocks\n",
    "rocks = resetRocks()"
   ]
  },
  {
   "cell_type": "code",
   "execution_count": 23,
   "id": "f5e4ebda",
   "metadata": {},
   "outputs": [
    {
     "data": {
      "text/plain": [
       "745"
      ]
     },
     "execution_count": 23,
     "metadata": {},
     "output_type": "execute_result"
    }
   ],
   "source": [
    "void_reached = False\n",
    "sand_particles = 0\n",
    "while(not void_reached):\n",
    "    sand_particles += 1\n",
    "    sand_x = 500\n",
    "    sand_y = 0\n",
    "    sand_moving = True\n",
    "    while (sand_moving):\n",
    "        #Try going down\n",
    "        if ((sand_x, sand_y+1) not in rocks):\n",
    "            sand_y = sand_y + 1\n",
    "        #Try going down and to the left\n",
    "        elif ((sand_x-1, sand_y+1) not in rocks):\n",
    "            sand_x -= 1\n",
    "            sand_y += 1\n",
    "        #Try going down and to the right\n",
    "        elif ((sand_x+1, sand_y+1) not in rocks):\n",
    "            sand_x += 1\n",
    "            sand_y += 1\n",
    "        #Could not move\n",
    "        else:\n",
    "            sand_moving = False\n",
    "            rocks.add((sand_x, sand_y))\n",
    "        if sand_y>max_depth:\n",
    "            void_reached = True\n",
    "            break\n",
    "#Need to subtract 1 since the last sand particle falls into the void\n",
    "#Answer to Part 1\n",
    "sand_particles-1"
   ]
  },
  {
   "cell_type": "code",
   "execution_count": 32,
   "id": "d3268a21",
   "metadata": {},
   "outputs": [
    {
     "data": {
      "text/plain": [
       "27551"
      ]
     },
     "execution_count": 32,
     "metadata": {},
     "output_type": "execute_result"
    }
   ],
   "source": [
    "#Idea: Sand will become a rock once it reaches a y-coordinate of max_depth+1\n",
    "rocks = resetRocks()\n",
    "source_blocked = False\n",
    "sand_particles = 0\n",
    "while(not source_blocked):\n",
    "    sand_particles += 1\n",
    "    sand_x = 500\n",
    "    sand_y = 0\n",
    "    sand_moving = True\n",
    "    while (sand_moving):\n",
    "        #Try going down\n",
    "        if ((sand_x, sand_y+1) not in rocks):\n",
    "            sand_y = sand_y + 1\n",
    "        #Try going down and to the left\n",
    "        elif ((sand_x-1, sand_y+1) not in rocks):\n",
    "            sand_x -= 1\n",
    "            sand_y += 1\n",
    "        #Try going down and to the right\n",
    "        elif ((sand_x+1, sand_y+1) not in rocks):\n",
    "            sand_x += 1\n",
    "            sand_y += 1\n",
    "        #Could not move\n",
    "        else:\n",
    "            sand_moving = False\n",
    "            rocks.add((sand_x, sand_y))\n",
    "        if sand_x==500 and sand_y==0:\n",
    "            sand_moving = False\n",
    "            source_blocked = True\n",
    "            break\n",
    "        elif sand_y == max_depth+1:\n",
    "            sand_moving = False\n",
    "            rocks.add((sand_x, sand_y))\n",
    "#Answer to Part 2\n",
    "sand_particles"
   ]
  }
 ],
 "metadata": {
  "kernelspec": {
   "display_name": "Python 3 (ipykernel)",
   "language": "python",
   "name": "python3"
  },
  "language_info": {
   "codemirror_mode": {
    "name": "ipython",
    "version": 3
   },
   "file_extension": ".py",
   "mimetype": "text/x-python",
   "name": "python",
   "nbconvert_exporter": "python",
   "pygments_lexer": "ipython3",
   "version": "3.9.7"
  }
 },
 "nbformat": 4,
 "nbformat_minor": 5
}
