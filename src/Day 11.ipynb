{
 "cells": [
  {
   "cell_type": "code",
   "execution_count": 1,
   "id": "a3914b8f",
   "metadata": {},
   "outputs": [],
   "source": [
    "import collections\n",
    "import pandas as pd"
   ]
  },
  {
   "cell_type": "code",
   "execution_count": 5,
   "id": "4a3c57ce",
   "metadata": {},
   "outputs": [
    {
     "name": "stdout",
     "output_type": "stream",
     "text": [
      "['Monkey 0:', 'Starting items: 97, 81, 57, 57, 91, 61', 'Operation: new = old * 7', 'Test: divisible by 11', 'If true: throw to monkey 5', 'If false: throw to monkey 6', '', 'Monkey 1:', 'Starting items: 88, 62, 68, 90', 'Operation: new = old * 17', 'Test: divisible by 19', 'If true: throw to monkey 4', 'If false: throw to monkey 2', '', 'Monkey 2:', 'Starting items: 74, 87', 'Operation: new = old + 2', 'Test: divisible by 5', 'If true: throw to monkey 7', 'If false: throw to monkey 4', '', 'Monkey 3:', 'Starting items: 53, 81, 60, 87, 90, 99, 75', 'Operation: new = old + 1', 'Test: divisible by 2', 'If true: throw to monkey 2', 'If false: throw to monkey 1', '', 'Monkey 4:', 'Starting items: 57', 'Operation: new = old + 6', 'Test: divisible by 13', 'If true: throw to monkey 7', 'If false: throw to monkey 0', '', 'Monkey 5:', 'Starting items: 54, 84, 91, 55, 59, 72, 75, 70', 'Operation: new = old * old', 'Test: divisible by 7', 'If true: throw to monkey 6', 'If false: throw to monkey 3', '', 'Monkey 6:', 'Starting items: 95, 79, 79, 68, 78', 'Operation: new = old + 3', 'Test: divisible by 3', 'If true: throw to monkey 1', 'If false: throw to monkey 3', '', 'Monkey 7:', 'Starting items: 61, 97, 67', 'Operation: new = old + 4', 'Test: divisible by 17', 'If true: throw to monkey 0', 'If false: throw to monkey 5']\n"
     ]
    }
   ],
   "source": [
    "with open('../inputs/input11.txt', 'r') as f:\n",
    "    lines = f.readlines()\n",
    "n = len(lines)\n",
    "for i in range(n):\n",
    "    lines[i] = lines[i].strip()\n",
    "print(lines)"
   ]
  },
  {
   "cell_type": "code",
   "execution_count": 29,
   "id": "accf39f3",
   "metadata": {},
   "outputs": [
    {
     "data": {
      "text/plain": [
       "[[97, 81, 57, 57, 91, 61],\n",
       " [88, 62, 68, 90],\n",
       " [74, 87],\n",
       " [53, 81, 60, 87, 90, 99, 75],\n",
       " [57],\n",
       " [54, 84, 91, 55, 59, 72, 75, 70],\n",
       " [95, 79, 79, 68, 78],\n",
       " [61, 97, 67]]"
      ]
     },
     "execution_count": 29,
     "metadata": {},
     "output_type": "execute_result"
    }
   ],
   "source": [
    "#Manually reading the input file and typing in the information to save time\n",
    "monkeys = [[97,81,57,57,91,61],[88,62,68,90],[74,87], [53, 81, 60, 87, 90, 99, 75], [57],[54, 84, 91, 55, 59, 72, 75, 70], [95, 79, 79, 68, 78], [61,97,67]]\n",
    "monkeys"
   ]
  },
  {
   "cell_type": "code",
   "execution_count": 30,
   "id": "812598e9",
   "metadata": {},
   "outputs": [
    {
     "data": {
      "text/plain": [
       "[deque([97, 81, 57, 57, 91, 61]),\n",
       " deque([88, 62, 68, 90]),\n",
       " deque([74, 87]),\n",
       " deque([53, 81, 60, 87, 90, 99, 75]),\n",
       " deque([57]),\n",
       " deque([54, 84, 91, 55, 59, 72, 75, 70]),\n",
       " deque([95, 79, 79, 68, 78]),\n",
       " deque([61, 97, 67])]"
      ]
     },
     "execution_count": 30,
     "metadata": {},
     "output_type": "execute_result"
    }
   ],
   "source": [
    "for i in range(8):\n",
    "    monkeys[i] = collections.deque(monkeys[i])\n",
    "monkeys"
   ]
  },
  {
   "cell_type": "code",
   "execution_count": 31,
   "id": "f5e4ebda",
   "metadata": {},
   "outputs": [],
   "source": [
    "inspections = [0]*8"
   ]
  },
  {
   "cell_type": "code",
   "execution_count": 32,
   "id": "d3268a21",
   "metadata": {},
   "outputs": [],
   "source": [
    "for i in range(20):\n",
    "    #Monkey 0\n",
    "    while (monkeys[0]):\n",
    "        item = monkeys[0].popleft()\n",
    "        inspections[0] += 1\n",
    "        item *= 7\n",
    "        item //= 3\n",
    "        if item%11 == 0:\n",
    "            monkeys[5].append(item)\n",
    "        else:\n",
    "            monkeys[6].append(item)\n",
    "    #Monkey 1\n",
    "    while (monkeys[1]):\n",
    "        item = monkeys[1].popleft()\n",
    "        inspections[1] += 1\n",
    "        item *= 17\n",
    "        item //= 3\n",
    "        if item%19 == 0:\n",
    "            monkeys[4].append(item)\n",
    "        else:\n",
    "            monkeys[2].append(item)\n",
    "    #Monkey 2\n",
    "    while (monkeys[2]):\n",
    "        item = monkeys[2].popleft()\n",
    "        inspections[2] += 1\n",
    "        item += 2\n",
    "        item //= 3\n",
    "        if item%5 == 0:\n",
    "            monkeys[7].append(item)\n",
    "        else:\n",
    "            monkeys[4].append(item)\n",
    "    #Monkey 3\n",
    "    while (monkeys[3]):\n",
    "        item = monkeys[3].popleft()\n",
    "        inspections[3] += 1\n",
    "        item += 1\n",
    "        item //= 3\n",
    "        if item%2 == 0:\n",
    "            monkeys[2].append(item)\n",
    "        else:\n",
    "            monkeys[1].append(item)\n",
    "    #Monkey 4\n",
    "    while (monkeys[4]):\n",
    "        item = monkeys[4].popleft()\n",
    "        inspections[4] += 1\n",
    "        item += 6\n",
    "        item //= 3\n",
    "        if item%13 == 0:\n",
    "            monkeys[7].append(item)\n",
    "        else:\n",
    "            monkeys[0].append(item)\n",
    "    #Monkey 5\n",
    "    while (monkeys[5]):\n",
    "        item = monkeys[5].popleft()\n",
    "        inspections[5] += 1\n",
    "        item = item * item\n",
    "        item //= 3\n",
    "        if item%7 == 0:\n",
    "            monkeys[6].append(item)\n",
    "        else:\n",
    "            monkeys[3].append(item)\n",
    "    #Monkey 6\n",
    "    while (monkeys[6]):\n",
    "        item = monkeys[6].popleft()\n",
    "        inspections[6] += 1\n",
    "        item += 3\n",
    "        item //= 3\n",
    "        if item%3 == 0:\n",
    "            monkeys[1].append(item)\n",
    "        else:\n",
    "            monkeys[3].append(item)\n",
    "    #Monkey 7\n",
    "    while (monkeys[7]):\n",
    "        item = monkeys[7].popleft()\n",
    "        inspections[7] += 1\n",
    "        item += 4\n",
    "        item //= 3\n",
    "        if item%17 == 0:\n",
    "            monkeys[0].append(item)\n",
    "        else:\n",
    "            monkeys[5].append(item)"
   ]
  },
  {
   "cell_type": "code",
   "execution_count": 33,
   "id": "703e2885",
   "metadata": {},
   "outputs": [
    {
     "data": {
      "text/plain": [
       "[213, 194, 245, 217, 230, 46, 216, 28]"
      ]
     },
     "execution_count": 33,
     "metadata": {},
     "output_type": "execute_result"
    }
   ],
   "source": [
    "inspections"
   ]
  },
  {
   "cell_type": "code",
   "execution_count": 36,
   "id": "a8042eed",
   "metadata": {},
   "outputs": [
    {
     "data": {
      "text/plain": [
       "56350"
      ]
     },
     "execution_count": 36,
     "metadata": {},
     "output_type": "execute_result"
    }
   ],
   "source": [
    "#Answer to Part 1\n",
    "most_active = sorted(inspections)\n",
    "monkey_business = most_active[-1]*most_active[-2]\n",
    "monkey_business"
   ]
  },
  {
   "cell_type": "code",
   "execution_count": 25,
   "id": "2b3356e1",
   "metadata": {
    "scrolled": false
   },
   "outputs": [
    {
     "data": {
      "text/plain": [
       "[[97, 81, 57, 57, 91, 61],\n",
       " [88, 62, 68, 90],\n",
       " [74, 87],\n",
       " [53, 81, 60, 87, 90, 99, 75],\n",
       " [57],\n",
       " [54, 84, 91, 55, 59, 72, 75, 70],\n",
       " [95, 79, 79, 68, 78],\n",
       " [61, 97, 67]]"
      ]
     },
     "execution_count": 25,
     "metadata": {},
     "output_type": "execute_result"
    }
   ],
   "source": [
    "#Resetting all the items\n",
    "monkeys = [[97,81,57,57,91,61],[88,62,68,90],[74,87], [53, 81, 60, 87, 90, 99, 75], [57],[54, 84, 91, 55, 59, 72, 75, 70], [95, 79, 79, 68, 78], [61,97,67]]\n",
    "monkeys"
   ]
  },
  {
   "cell_type": "code",
   "execution_count": 26,
   "id": "5e80c397",
   "metadata": {},
   "outputs": [
    {
     "data": {
      "text/plain": [
       "[deque([97, 81, 57, 57, 91, 61]),\n",
       " deque([88, 62, 68, 90]),\n",
       " deque([74, 87]),\n",
       " deque([53, 81, 60, 87, 90, 99, 75]),\n",
       " deque([57]),\n",
       " deque([54, 84, 91, 55, 59, 72, 75, 70]),\n",
       " deque([95, 79, 79, 68, 78]),\n",
       " deque([61, 97, 67])]"
      ]
     },
     "execution_count": 26,
     "metadata": {},
     "output_type": "execute_result"
    }
   ],
   "source": [
    "for i in range(8):\n",
    "    monkeys[i] = collections.deque(monkeys[i])\n",
    "monkeys"
   ]
  },
  {
   "cell_type": "code",
   "execution_count": 27,
   "id": "af9b0b2e",
   "metadata": {},
   "outputs": [],
   "source": [
    "inspections = [0]*8"
   ]
  },
  {
   "cell_type": "code",
   "execution_count": 29,
   "id": "c3d34c88",
   "metadata": {},
   "outputs": [],
   "source": [
    "#Helper function to prevent numbers from getting too large\n",
    "prime = 2*3*5*7*11*13*17*19\n",
    "def reduceWorries(item):\n",
    "    item%=prime\n",
    "    return item"
   ]
  },
  {
   "cell_type": "code",
   "execution_count": 30,
   "id": "34fa4dac",
   "metadata": {},
   "outputs": [],
   "source": [
    "for i in range(10000):\n",
    "    #Monkey 0\n",
    "    while (monkeys[0]):\n",
    "        item = monkeys[0].popleft()\n",
    "        inspections[0] += 1\n",
    "        item *= 7\n",
    "        item = reduceWorries(item)\n",
    "        if item%11 == 0:\n",
    "            monkeys[5].append(item)\n",
    "        else:\n",
    "            monkeys[6].append(item)\n",
    "    #Monkey 1\n",
    "    while (monkeys[1]):\n",
    "        item = monkeys[1].popleft()\n",
    "        inspections[1] += 1\n",
    "        item *= 17\n",
    "        item = reduceWorries(item)\n",
    "        if item%19 == 0:\n",
    "            monkeys[4].append(item)\n",
    "        else:\n",
    "            monkeys[2].append(item)\n",
    "    #Monkey 2\n",
    "    while (monkeys[2]):\n",
    "        item = monkeys[2].popleft()\n",
    "        inspections[2] += 1\n",
    "        item += 2\n",
    "        item = reduceWorries(item)\n",
    "        if item%5 == 0:\n",
    "            monkeys[7].append(item)\n",
    "        else:\n",
    "            monkeys[4].append(item)\n",
    "    #Monkey 3\n",
    "    while (monkeys[3]):\n",
    "        item = monkeys[3].popleft()\n",
    "        inspections[3] += 1\n",
    "        item += 1\n",
    "        item = reduceWorries(item)\n",
    "        if item%2 == 0:\n",
    "            monkeys[2].append(item)\n",
    "        else:\n",
    "            monkeys[1].append(item)\n",
    "    #Monkey 4\n",
    "    while (monkeys[4]):\n",
    "        item = monkeys[4].popleft()\n",
    "        inspections[4] += 1\n",
    "        item += 6\n",
    "        item = reduceWorries(item)\n",
    "        if item%13 == 0:\n",
    "            monkeys[7].append(item)\n",
    "        else:\n",
    "            monkeys[0].append(item)\n",
    "    #Monkey 5\n",
    "    while (monkeys[5]):\n",
    "        item = monkeys[5].popleft()\n",
    "        inspections[5] += 1\n",
    "        item = item * item\n",
    "        item = reduceWorries(item)\n",
    "        if item%7 == 0:\n",
    "            monkeys[6].append(item)\n",
    "        else:\n",
    "            monkeys[3].append(item)\n",
    "    #Monkey 6\n",
    "    while (monkeys[6]):\n",
    "        item = monkeys[6].popleft()\n",
    "        inspections[6] += 1\n",
    "        item += 3\n",
    "        item = reduceWorries(item)\n",
    "        if item%3 == 0:\n",
    "            monkeys[1].append(item)\n",
    "        else:\n",
    "            monkeys[3].append(item)\n",
    "    #Monkey 7\n",
    "    while (monkeys[7]):\n",
    "        item = monkeys[7].popleft()\n",
    "        inspections[7] += 1\n",
    "        item += 4\n",
    "        item = reduceWorries(item)\n",
    "        if item%17 == 0:\n",
    "            monkeys[0].append(item)\n",
    "        else:\n",
    "            monkeys[5].append(item)"
   ]
  },
  {
   "cell_type": "code",
   "execution_count": 31,
   "id": "7fe19699",
   "metadata": {},
   "outputs": [
    {
     "data": {
      "text/plain": [
       "13954061248"
      ]
     },
     "execution_count": 31,
     "metadata": {},
     "output_type": "execute_result"
    }
   ],
   "source": [
    "#Answer to Part 2\n",
    "most_active = sorted(inspections)\n",
    "monkey_business = most_active[-1]*most_active[-2]\n",
    "monkey_business"
   ]
  }
 ],
 "metadata": {
  "kernelspec": {
   "display_name": "Python 3 (ipykernel)",
   "language": "python",
   "name": "python3"
  },
  "language_info": {
   "codemirror_mode": {
    "name": "ipython",
    "version": 3
   },
   "file_extension": ".py",
   "mimetype": "text/x-python",
   "name": "python",
   "nbconvert_exporter": "python",
   "pygments_lexer": "ipython3",
   "version": "3.9.7"
  }
 },
 "nbformat": 4,
 "nbformat_minor": 5
}
