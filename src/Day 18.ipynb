{
 "cells": [
  {
   "cell_type": "code",
   "execution_count": 1,
   "id": "a3914b8f",
   "metadata": {},
   "outputs": [],
   "source": [
    "import collections\n",
    "import pandas as pd\n",
    "import functools"
   ]
  },
  {
   "cell_type": "code",
   "execution_count": 49,
   "id": "4a3c57ce",
   "metadata": {},
   "outputs": [],
   "source": [
    "with open('../inputs/input18.txt', 'r') as f:\n",
    "    lines = f.readlines()\n",
    "n = len(lines)\n",
    "for i in range(n):\n",
    "    lines[i] = lines[i].strip()\n",
    "    lines[i] = lines[i].split(\",\")\n",
    "    for j in range(len(lines[i])):\n",
    "        lines[i][j] = int(lines[i][j])"
   ]
  },
  {
   "cell_type": "code",
   "execution_count": 50,
   "id": "accf39f3",
   "metadata": {},
   "outputs": [
    {
     "data": {
      "text/plain": [
       "[[1, 0, 0], [-1, 0, 0], [0, 1, 0], [0, -1, 0], [0, 0, 1], [0, 0, -1]]"
      ]
     },
     "execution_count": 50,
     "metadata": {},
     "output_type": "execute_result"
    }
   ],
   "source": [
    "#the 6 directions that a cube could be in in relation to another\n",
    "directions = [[1,0,0],\\\n",
    "             [-1,0,0],\\\n",
    "             [0,1,0],\\\n",
    "             [0,-1,0],\\\n",
    "             [0,0,1],\\\n",
    "             [0,0,-1]]\n",
    "directions"
   ]
  },
  {
   "cell_type": "code",
   "execution_count": 51,
   "id": "812598e9",
   "metadata": {},
   "outputs": [
    {
     "name": "stdout",
     "output_type": "stream",
     "text": [
      "4310\n"
     ]
    }
   ],
   "source": [
    "#Answer to part 1\n",
    "def part_1():\n",
    "    surfaces_exposed = 0\n",
    "    droplets = set()\n",
    "    for line in lines:\n",
    "        x = line[0]\n",
    "        y = line[1]\n",
    "        z = line[2]\n",
    "        droplets.add((x,y,z))\n",
    "        sides_exposed = 6\n",
    "        for direction in directions:\n",
    "            check_x = x + direction[0]\n",
    "            check_y = y + direction[1]\n",
    "            check_z = z + direction[2]\n",
    "            if (check_x,check_y,check_z) in droplets:\n",
    "                sides_exposed -= 2\n",
    "        surfaces_exposed += sides_exposed\n",
    "    return surfaces_exposed\n",
    "print(part_1())"
   ]
  },
  {
   "cell_type": "code",
   "execution_count": 52,
   "id": "f5e4ebda",
   "metadata": {},
   "outputs": [],
   "source": [
    "max_x = 0\n",
    "max_y = 0\n",
    "max_z = 0\n",
    "for line in lines:\n",
    "    max_x = max(max_x, line[0])\n",
    "    max_y = max(max_y, line[1])\n",
    "    max_z = max(max_z, line[2])"
   ]
  },
  {
   "cell_type": "code",
   "execution_count": 53,
   "id": "5a285909",
   "metadata": {},
   "outputs": [],
   "source": [
    "def check_surroundings(coords, direction):\n",
    "    x = coords[0]\n",
    "    y = coords[1]\n",
    "    z = coords[2]\n",
    "    if direction[0] != 0:\n",
    "        while x>=0 and x<22:\n",
    "            x = x + direction[0]\n",
    "            if [x,y,z] in lines:\n",
    "                return True\n",
    "        return False\n",
    "    elif direction[1] != 0:\n",
    "        while y>=0 and y<22:\n",
    "            y = y + direction[1]\n",
    "            if [x,y,z] in lines:\n",
    "                return True\n",
    "        return False\n",
    "    elif direction[2] != 0:\n",
    "        while z>=0 and z<22:\n",
    "            z = z + direction[2]\n",
    "            if [x,y,z] in lines:\n",
    "                return True\n",
    "        return False"
   ]
  },
  {
   "cell_type": "code",
   "execution_count": 54,
   "id": "d3268a21",
   "metadata": {},
   "outputs": [],
   "source": [
    "#Checking every single possible coordinate in our 21x21x21 grid to see if this point is an air pocket\n",
    "for i in range(max_x+1):\n",
    "    for j in range(max_y+1):\n",
    "        for k in range(max_z+1):\n",
    "            if [i,j,k] in lines:\n",
    "                continue\n",
    "            #Flags to indicate whether there exists a droplet surrounded by others\n",
    "            flags = [False, False, False, False, False, False]\n",
    "            for x in range(6):\n",
    "                flags[x] = check_surroundings((i,j,k), directions[x])\n",
    "            if flags[0] and flags[1] and flags[2] and flags[3] and flags[4] and flags[5]:\n",
    "                lines.append([i,j,k])"
   ]
  },
  {
   "cell_type": "code",
   "execution_count": 55,
   "id": "9728c438",
   "metadata": {},
   "outputs": [
    {
     "name": "stdout",
     "output_type": "stream",
     "text": [
      "2466\n"
     ]
    }
   ],
   "source": [
    "#Answer to Part 2\n",
    "print(part_1())"
   ]
  }
 ],
 "metadata": {
  "kernelspec": {
   "display_name": "Python 3 (ipykernel)",
   "language": "python",
   "name": "python3"
  },
  "language_info": {
   "codemirror_mode": {
    "name": "ipython",
    "version": 3
   },
   "file_extension": ".py",
   "mimetype": "text/x-python",
   "name": "python",
   "nbconvert_exporter": "python",
   "pygments_lexer": "ipython3",
   "version": "3.9.7"
  }
 },
 "nbformat": 4,
 "nbformat_minor": 5
}
