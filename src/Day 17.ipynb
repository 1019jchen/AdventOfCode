{
 "cells": [
  {
   "cell_type": "code",
   "execution_count": 1,
   "id": "a3914b8f",
   "metadata": {},
   "outputs": [],
   "source": [
    "import collections\n",
    "import pandas as pd\n",
    "import functools"
   ]
  },
  {
   "cell_type": "code",
   "execution_count": 2,
   "id": "4a3c57ce",
   "metadata": {},
   "outputs": [],
   "source": [
    "with open('../inputs/input17.txt', 'r') as f:\n",
    "    lines = f.readlines()\n",
    "n = len(lines)\n",
    "for i in range(n):\n",
    "    lines[i] = lines[i].strip()\n",
    "stream = lines[0]"
   ]
  },
  {
   "cell_type": "code",
   "execution_count": 3,
   "id": "accf39f3",
   "metadata": {},
   "outputs": [],
   "source": [
    "n = 7 #n is the width of the chamber\n",
    "#represent the coords of each rock when it starts\n",
    "rocks = [[(2,3),(3,3),(4,3),(5,3)],\\\n",
    "         [(3,3),(2,4),(3,4),(4,4),(3,5)],\\\n",
    "         [(2,3),(3,3),(4,3),(4,4),(4,5)],\\\n",
    "         [(2,3),(2,4),(2,5),(2,6)],\\\n",
    "         [(2,3),(2,4),(3,3),(3,4)]]"
   ]
  },
  {
   "cell_type": "code",
   "execution_count": 4,
   "id": "812598e9",
   "metadata": {},
   "outputs": [],
   "source": [
    "len_stream = len(stream)"
   ]
  },
  {
   "cell_type": "code",
   "execution_count": 5,
   "id": "f5e4ebda",
   "metadata": {},
   "outputs": [],
   "source": [
    "fallen_rocks = set()\n",
    "for i in range(n):\n",
    "    fallen_rocks.add((i,-1))"
   ]
  },
  {
   "cell_type": "code",
   "execution_count": 6,
   "id": "d3268a21",
   "metadata": {},
   "outputs": [],
   "source": [
    "def gas_push(rock, time):\n",
    "    direction = stream[time%len_stream]\n",
    "    if direction == '<':\n",
    "        dx = -1\n",
    "    else:\n",
    "        dx = 1\n",
    "    new_rock = []\n",
    "    for rock_component in rock:\n",
    "        x = rock_component[0]+dx\n",
    "        y = rock_component[1]\n",
    "        #If we cannot move the rock any further\n",
    "        if x<0 or x>6:\n",
    "            return rock\n",
    "        if (x,y) in fallen_rocks:\n",
    "            return rock\n",
    "        new_rock.append((x,y))\n",
    "    #We can successfully move every part of the rock without hitting a wall\n",
    "    return new_rock"
   ]
  },
  {
   "cell_type": "code",
   "execution_count": 7,
   "id": "5a7e0442",
   "metadata": {},
   "outputs": [],
   "source": [
    "def fall(rock):\n",
    "    new_rock = []\n",
    "    for rock_component in rock:\n",
    "        x = rock_component[0]\n",
    "        y = rock_component[1]-1\n",
    "        #The rock has hit the floor\n",
    "        if (x,y) in fallen_rocks:\n",
    "            return \"Rock has finished falling!\"\n",
    "        else:\n",
    "            new_rock.append((x,y))\n",
    "    return new_rock"
   ]
  },
  {
   "cell_type": "code",
   "execution_count": 8,
   "id": "9e01b1d0",
   "metadata": {},
   "outputs": [],
   "source": [
    "def spawn(num_rocks, high_point):\n",
    "    default_rock = rocks[num_rocks%5]\n",
    "    new_rock = []\n",
    "    for i in range(len(default_rock)): #the ith component of the current rock\n",
    "        x = default_rock[i][0]\n",
    "        #we have to adjust the y-value\n",
    "        y = default_rock[i][1]+high_point+1\n",
    "        new_rock.append((x,y))\n",
    "    return new_rock"
   ]
  },
  {
   "cell_type": "code",
   "execution_count": 11,
   "id": "e770641e",
   "metadata": {},
   "outputs": [],
   "source": [
    "num_rocks = 0\n",
    "high_point = -1\n",
    "time = 0\n",
    "fallen_rocks = set()\n",
    "heights = []\n",
    "for i in range(n):\n",
    "    fallen_rocks.add((i,-1))\n",
    "while(num_rocks<2022):\n",
    "    num_rocks+=1\n",
    "    cur_rock = spawn(num_rocks-1, high_point)\n",
    "    while (cur_rock != \"Rock has finished falling!\"):\n",
    "        cur_rock = gas_push(cur_rock, time)\n",
    "        time += 1\n",
    "        test_rock = fall(cur_rock)\n",
    "        if (test_rock == \"Rock has finished falling!\"):\n",
    "            break\n",
    "        cur_rock = test_rock\n",
    "    for rock_component in cur_rock:\n",
    "        high_point = max(high_point, rock_component[1])\n",
    "        fallen_rocks.add(rock_component)\n",
    "    heights.append(high_point)"
   ]
  },
  {
   "cell_type": "code",
   "execution_count": 12,
   "id": "ed3c8300",
   "metadata": {},
   "outputs": [],
   "source": [
    "#Debugging purposes\n",
    "def print_rocks():\n",
    "    array = [[\".\"]*7 for x in range(high_point+1)]\n",
    "    for rock_component in fallen_rocks:\n",
    "        x = rock_component[0]\n",
    "        y = rock_component[1]\n",
    "        if y!=-1:\n",
    "            array[y][x] = \"#\"\n",
    "    for i in range(len(array)-1,-1,-1):\n",
    "        print(\"\".join(array[i]))"
   ]
  },
  {
   "cell_type": "code",
   "execution_count": 13,
   "id": "c41da96e",
   "metadata": {},
   "outputs": [
    {
     "name": "stdout",
     "output_type": "stream",
     "text": [
      "3055\n"
     ]
    }
   ],
   "source": [
    "#Answer to part 1\n",
    "print(high_point+1)"
   ]
  },
  {
   "cell_type": "code",
   "execution_count": 14,
   "id": "c46f5382",
   "metadata": {},
   "outputs": [],
   "source": [
    "dy = []\n",
    "for i in range(len(heights)-1):\n",
    "    dy.append(heights[i+1]-heights[i])"
   ]
  },
  {
   "cell_type": "code",
   "execution_count": 16,
   "id": "b76725d0",
   "metadata": {},
   "outputs": [],
   "source": [
    "#I bashed numbers to find the sweet spot of 200.\n",
    "#Apparently there were no subarrays of length 400 or higher that repeated.\n",
    "#I test every single possible subarray of 200 to find repeats.\n",
    "for subarray_length in range(200,201):\n",
    "    for j in range(len(dy)-subarray_length):\n",
    "        temp_compare = dy[j:j+subarray_length]\n",
    "        for x in range(j+1, len(dy)-subarray_length):\n",
    "            temp_compare_2 = dy[x:x+subarray_length]\n",
    "            if temp_compare==temp_compare_2:\n",
    "                offset = j\n",
    "                cycle_length = x-j"
   ]
  },
  {
   "cell_type": "code",
   "execution_count": 17,
   "id": "c2f812c4",
   "metadata": {},
   "outputs": [
    {
     "name": "stdout",
     "output_type": "stream",
     "text": [
      "1507692307690\n"
     ]
    }
   ],
   "source": [
    "#Answer to Part 2\n",
    "cycle_height = sum(dy[offset:offset+cycle_length])\n",
    "answer = sum(dy[:offset]) + cycle_height*((1000000000000-offset)//cycle_length) + sum(dy[offset:offset+(1000000000000-offset)%cycle_length])\n",
    "print(answer)"
   ]
  }
 ],
 "metadata": {
  "kernelspec": {
   "display_name": "Python 3 (ipykernel)",
   "language": "python",
   "name": "python3"
  },
  "language_info": {
   "codemirror_mode": {
    "name": "ipython",
    "version": 3
   },
   "file_extension": ".py",
   "mimetype": "text/x-python",
   "name": "python",
   "nbconvert_exporter": "python",
   "pygments_lexer": "ipython3",
   "version": "3.9.7"
  }
 },
 "nbformat": 4,
 "nbformat_minor": 5
}
