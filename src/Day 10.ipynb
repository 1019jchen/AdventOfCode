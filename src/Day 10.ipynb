{
 "cells": [
  {
   "cell_type": "code",
   "execution_count": 56,
   "id": "a3914b8f",
   "metadata": {},
   "outputs": [],
   "source": [
    "import collections\n",
    "import pandas as pd"
   ]
  },
  {
   "cell_type": "code",
   "execution_count": 57,
   "id": "4a3c57ce",
   "metadata": {},
   "outputs": [
    {
     "name": "stdout",
     "output_type": "stream",
     "text": [
      "[['addx', 2], ['addx', 3], ['noop'], ['addx', 1], ['addx', 27], ['addx', -23], ['addx', 5], ['noop'], ['addx', 1], ['noop'], ['addx', 4], ['addx', 1], ['noop'], ['addx', 4], ['addx', 5], ['noop'], ['noop'], ['noop'], ['addx', 5], ['addx', -4], ['addx', 4], ['noop'], ['addx', 1], ['addx', -38], ['noop'], ['noop'], ['addx', 7], ['addx', 8], ['addx', -3], ['noop'], ['addx', 3], ['noop'], ['addx', 5], ['noop'], ['noop'], ['addx', -2], ['addx', 2], ['addx', 9], ['addx', -2], ['addx', 6], ['addx', 1], ['addx', -4], ['addx', 5], ['addx', 2], ['addx', -14], ['addx', -6], ['addx', -16], ['addx', 1], ['addx', 5], ['addx', 1], ['addx', 4], ['addx', -2], ['noop'], ['addx', -7], ['addx', -3], ['addx', 17], ['addx', 5], ['noop'], ['noop'], ['addx', 19], ['addx', -16], ['noop'], ['addx', 14], ['addx', -8], ['addx', 2], ['noop'], ['addx', 4], ['noop'], ['addx', -35], ['addx', -2], ['noop'], ['noop'], ['addx', 7], ['addx', 19], ['addx', -26], ['addx', 10], ['addx', 29], ['addx', -21], ['noop'], ['addx', 4], ['noop'], ['noop'], ['addx', -9], ['addx', 4], ['addx', 8], ['addx', 7], ['noop'], ['addx', -2], ['addx', 5], ['addx', 2], ['addx', -19], ['addx', -18], ['noop'], ['noop'], ['noop'], ['noop'], ['addx', 7], ['addx', -7], ['addx', 37], ['addx', -27], ['addx', 5], ['addx', 2], ['addx', -12], ['addx', 4], ['addx', 11], ['noop'], ['noop'], ['noop'], ['addx', 5], ['addx', -14], ['addx', 21], ['addx', -4], ['addx', 5], ['addx', 2], ['noop'], ['addx', -35], ['noop'], ['noop'], ['noop'], ['noop'], ['addx', 7], ['addx', 1], ['noop'], ['noop'], ['addx', 5], ['addx', -1], ['addx', 5], ['addx', 1], ['noop'], ['addx', 4], ['addx', 1], ['noop'], ['noop'], ['addx', 4], ['noop'], ['addx', 1], ['addx', 2], ['addx', 5], ['addx', 2], ['addx', 1], ['noop'], ['noop'], ['noop'], ['noop']]\n"
     ]
    }
   ],
   "source": [
    "with open('../inputs/input10.txt', 'r') as f:\n",
    "    lines = f.readlines()\n",
    "n = len(lines)\n",
    "for i in range(n):\n",
    "    lines[i] = lines[i].strip()\n",
    "    lines[i] = lines[i].split()\n",
    "    if lines[i][0] == 'addx':\n",
    "        lines[i][1] = int(lines[i][1])\n",
    "print(lines)"
   ]
  },
  {
   "cell_type": "code",
   "execution_count": 58,
   "id": "accf39f3",
   "metadata": {},
   "outputs": [
    {
     "name": "stdout",
     "output_type": "stream",
     "text": [
      "1 1\n",
      "3 3\n",
      "5 6\n",
      "6 6\n",
      "8 7\n",
      "10 34\n",
      "12 11\n",
      "14 16\n",
      "15 16\n",
      "17 17\n",
      "18 17\n",
      "20 21\n",
      "22 22\n",
      "23 22\n",
      "25 26\n",
      "27 31\n",
      "28 31\n",
      "29 31\n",
      "30 31\n",
      "32 36\n",
      "34 32\n",
      "36 36\n",
      "37 36\n",
      "39 37\n",
      "41 -1\n",
      "42 -1\n",
      "43 -1\n",
      "45 6\n",
      "47 14\n",
      "49 11\n",
      "50 11\n",
      "52 14\n",
      "53 14\n",
      "55 19\n",
      "56 19\n",
      "57 19\n",
      "59 17\n",
      "61 19\n",
      "63 28\n",
      "65 26\n",
      "67 32\n",
      "69 33\n",
      "71 29\n",
      "73 34\n",
      "75 36\n",
      "77 22\n",
      "79 16\n",
      "81 0\n",
      "83 1\n",
      "85 6\n",
      "87 7\n",
      "89 11\n",
      "91 9\n",
      "92 9\n",
      "94 2\n",
      "96 -1\n",
      "98 16\n",
      "100 21\n",
      "101 21\n",
      "102 21\n",
      "104 40\n",
      "106 24\n",
      "107 24\n",
      "109 38\n",
      "111 30\n",
      "113 32\n",
      "114 32\n",
      "116 36\n",
      "117 36\n",
      "119 1\n",
      "121 -1\n",
      "122 -1\n",
      "123 -1\n",
      "125 6\n",
      "127 25\n",
      "129 -1\n",
      "131 9\n",
      "133 38\n",
      "135 17\n",
      "136 17\n",
      "138 21\n",
      "139 21\n",
      "140 21\n",
      "142 12\n",
      "144 16\n",
      "146 24\n",
      "148 31\n",
      "149 31\n",
      "151 29\n",
      "153 34\n",
      "155 36\n",
      "157 17\n",
      "159 -1\n",
      "160 -1\n",
      "161 -1\n",
      "162 -1\n",
      "163 -1\n",
      "165 6\n",
      "167 -1\n",
      "169 36\n",
      "171 9\n",
      "173 14\n",
      "175 16\n",
      "177 4\n",
      "179 8\n",
      "181 19\n",
      "182 19\n",
      "183 19\n",
      "184 19\n",
      "186 24\n",
      "188 10\n",
      "190 31\n",
      "192 27\n",
      "194 32\n",
      "196 34\n",
      "197 34\n",
      "199 -1\n",
      "200 -1\n",
      "201 -1\n",
      "202 -1\n",
      "203 -1\n",
      "205 6\n",
      "207 7\n",
      "208 7\n",
      "209 7\n",
      "211 12\n",
      "213 11\n",
      "215 16\n",
      "217 17\n",
      "218 17\n",
      "220 21\n",
      "222 22\n",
      "223 22\n",
      "224 22\n",
      "226 26\n",
      "227 26\n",
      "229 27\n",
      "231 29\n",
      "233 34\n",
      "235 36\n",
      "237 37\n",
      "238 37\n",
      "239 37\n",
      "240 37\n"
     ]
    }
   ],
   "source": [
    "x = 1\n",
    "cycle = 1\n",
    "special_signals = []\n",
    "def findSignals(cycle):\n",
    "    if (cycle-20)%40==0:\n",
    "        special_signals.append(x*cycle)\n",
    "for line in lines:\n",
    "    print(cycle,x)\n",
    "    if line[0] == 'noop':\n",
    "        cycle += 1\n",
    "        findSignals(cycle)\n",
    "    else:\n",
    "        cycle += 1\n",
    "        findSignals(cycle)\n",
    "        cycle += 1\n",
    "        x += line[1]\n",
    "        findSignals(cycle)"
   ]
  },
  {
   "cell_type": "code",
   "execution_count": 59,
   "id": "812598e9",
   "metadata": {},
   "outputs": [
    {
     "data": {
      "text/plain": [
       "[420, 1020, 2100, 2940, 1440, 4620]"
      ]
     },
     "execution_count": 59,
     "metadata": {},
     "output_type": "execute_result"
    }
   ],
   "source": [
    "special_signals"
   ]
  },
  {
   "cell_type": "code",
   "execution_count": 60,
   "id": "d3268a21",
   "metadata": {},
   "outputs": [
    {
     "data": {
      "text/plain": [
       "12540"
      ]
     },
     "execution_count": 60,
     "metadata": {},
     "output_type": "execute_result"
    }
   ],
   "source": [
    "#Answer to Part 1\n",
    "sum(special_signals)"
   ]
  },
  {
   "cell_type": "code",
   "execution_count": 61,
   "id": "703e2885",
   "metadata": {},
   "outputs": [],
   "source": [
    "x = 1\n",
    "cycle = 1\n",
    "screen = [['.']*40 for x in range(6)]"
   ]
  },
  {
   "cell_type": "code",
   "execution_count": 62,
   "id": "a8042eed",
   "metadata": {},
   "outputs": [],
   "source": [
    "def drawPixels():\n",
    "    current_row = (cycle-1)//40\n",
    "    current_col = (cycle-1)%40\n",
    "    if current_col == x or current_col == x+1 or current_col == x-1:\n",
    "        screen[current_row][current_col] = '#'\n",
    "for line in lines:\n",
    "    if line[0] == 'noop':\n",
    "        drawPixels()\n",
    "        cycle += 1\n",
    "    else:\n",
    "        drawPixels()\n",
    "        cycle += 1\n",
    "        drawPixels()\n",
    "        cycle += 1\n",
    "        x += line[1]"
   ]
  },
  {
   "cell_type": "code",
   "execution_count": 63,
   "id": "2b3356e1",
   "metadata": {
    "scrolled": false
   },
   "outputs": [
    {
     "name": "stdout",
     "output_type": "stream",
     "text": [
      "####.####..##..####.####.#....#..#.####.\n",
      "#....#....#..#....#.#....#....#..#.#....\n",
      "###..###..#......#..###..#....####.###..\n",
      "#....#....#.....#...#....#....#..#.#....\n",
      "#....#....#..#.#....#....#....#..#.#....\n",
      "#....####..##..####.####.####.#..#.####.\n"
     ]
    }
   ],
   "source": [
    "#Answer to Part 2\n",
    "for i in range(6):\n",
    "    s = \"\"\n",
    "    for j in range(40):\n",
    "        s += screen[i][j]\n",
    "    print(s)"
   ]
  }
 ],
 "metadata": {
  "kernelspec": {
   "display_name": "Python 3 (ipykernel)",
   "language": "python",
   "name": "python3"
  },
  "language_info": {
   "codemirror_mode": {
    "name": "ipython",
    "version": 3
   },
   "file_extension": ".py",
   "mimetype": "text/x-python",
   "name": "python",
   "nbconvert_exporter": "python",
   "pygments_lexer": "ipython3",
   "version": "3.9.7"
  }
 },
 "nbformat": 4,
 "nbformat_minor": 5
}
