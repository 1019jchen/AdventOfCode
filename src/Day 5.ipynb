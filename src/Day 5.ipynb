{
 "cells": [
  {
   "cell_type": "code",
   "execution_count": 1,
   "id": "a3914b8f",
   "metadata": {},
   "outputs": [],
   "source": [
    "import collections\n",
    "import pandas as pd\n",
    "import math"
   ]
  },
  {
   "cell_type": "code",
   "execution_count": 16,
   "id": "a759f897",
   "metadata": {},
   "outputs": [
    {
     "name": "stdout",
     "output_type": "stream",
     "text": [
      "[0, ['B', 'P', 'N', 'Q', 'H', 'D', 'R', 'T'], ['W', 'G', 'B', 'J', 'T', 'V'], ['N', 'R', 'H', 'D', 'S', 'V', 'M', 'Q'], ['P', 'Z', 'N', 'M', 'C'], ['D', 'Z', 'B'], ['V', 'C', 'W', 'Z'], ['G', 'Z', 'N', 'C', 'V', 'Q', 'L', 'S'], ['L', 'G', 'J', 'M', 'D', 'N', 'V'], ['T', 'P', 'M', 'F', 'Z', 'C', 'G']]\n"
     ]
    }
   ],
   "source": [
    "s1 = ['B','P','N', 'Q', 'H', 'D', 'R', 'T']\n",
    "s2 = ['W', 'G', 'B', 'J', 'T', 'V']\n",
    "s3 = ['N', 'R', 'H', 'D', 'S', 'V', 'M', 'Q']\n",
    "s4 = ['P', 'Z', 'N', 'M', 'C']\n",
    "s5 = ['D', 'Z', 'B']\n",
    "s6 = ['V', 'C', 'W', 'Z']\n",
    "s7 = ['G', 'Z', 'N', 'C', 'V', 'Q', 'L', 'S']\n",
    "s8 = ['L', 'G', 'J', 'M', 'D', 'N', 'V']\n",
    "s9 = ['T', 'P', 'M', 'F', 'Z', 'C', 'G']\n",
    "stacks = [0,s1, s2, s3, s4, s5, s6, s7, s8, s9]\n",
    "print(stacks)"
   ]
  },
  {
   "cell_type": "code",
   "execution_count": 10,
   "id": "4a3c57ce",
   "metadata": {},
   "outputs": [
    {
     "name": "stdout",
     "output_type": "stream",
     "text": [
      "[['move', 5, 'from', 4, 'to', 9], ['move', 3, 'from', 5, 'to', 1], ['move', 12, 'from', 9, 'to', 6], ['move', 1, 'from', 6, 'to', 9], ['move', 3, 'from', 2, 'to', 8], ['move', 6, 'from', 3, 'to', 9], ['move', 2, 'from', 2, 'to', 9], ['move', 2, 'from', 3, 'to', 5], ['move', 9, 'from', 8, 'to', 1], ['move', 1, 'from', 6, 'to', 9], ['move', 1, 'from', 8, 'to', 3], ['move', 14, 'from', 1, 'to', 2], ['move', 8, 'from', 2, 'to', 6], ['move', 2, 'from', 2, 'to', 7], ['move', 2, 'from', 5, 'to', 8], ['move', 5, 'from', 2, 'to', 6], ['move', 9, 'from', 7, 'to', 8], ['move', 1, 'from', 9, 'to', 8], ['move', 5, 'from', 6, 'to', 9], ['move', 1, 'from', 3, 'to', 8], ['move', 1, 'from', 7, 'to', 5], ['move', 1, 'from', 1, 'to', 5], ['move', 4, 'from', 1, 'to', 7], ['move', 15, 'from', 6, 'to', 1], ['move', 4, 'from', 7, 'to', 6], ['move', 2, 'from', 5, 'to', 7], ['move', 9, 'from', 8, 'to', 7], ['move', 13, 'from', 1, 'to', 3], ['move', 8, 'from', 6, 'to', 9], ['move', 1, 'from', 6, 'to', 8], ['move', 1, 'from', 7, 'to', 5], ['move', 2, 'from', 1, 'to', 3], ['move', 4, 'from', 7, 'to', 1], ['move', 13, 'from', 3, 'to', 6], ['move', 2, 'from', 1, 'to', 3], ['move', 1, 'from', 5, 'to', 8], ['move', 2, 'from', 3, 'to', 4], ['move', 5, 'from', 7, 'to', 1], ['move', 4, 'from', 1, 'to', 9], ['move', 2, 'from', 4, 'to', 5], ['move', 4, 'from', 6, 'to', 2], ['move', 3, 'from', 2, 'to', 5], ['move', 6, 'from', 8, 'to', 1], ['move', 7, 'from', 6, 'to', 7], ['move', 1, 'from', 3, 'to', 5], ['move', 1, 'from', 2, 'to', 4], ['move', 8, 'from', 1, 'to', 8], ['move', 4, 'from', 6, 'to', 2], ['move', 3, 'from', 5, 'to', 3], ['move', 1, 'from', 4, 'to', 3], ['move', 2, 'from', 1, 'to', 3], ['move', 8, 'from', 8, 'to', 5], ['move', 2, 'from', 3, 'to', 8], ['move', 4, 'from', 5, 'to', 3], ['move', 1, 'from', 9, 'to', 2], ['move', 1, 'from', 8, 'to', 3], ['move', 1, 'from', 2, 'to', 1], ['move', 15, 'from', 9, 'to', 3], ['move', 6, 'from', 7, 'to', 5], ['move', 1, 'from', 7, 'to', 3], ['move', 2, 'from', 2, 'to', 8], ['move', 6, 'from', 9, 'to', 4], ['move', 22, 'from', 3, 'to', 6], ['move', 3, 'from', 8, 'to', 6], ['move', 1, 'from', 1, 'to', 2], ['move', 2, 'from', 9, 'to', 8], ['move', 6, 'from', 4, 'to', 7], ['move', 6, 'from', 7, 'to', 2], ['move', 16, 'from', 6, 'to', 9], ['move', 8, 'from', 2, 'to', 1], ['move', 4, 'from', 6, 'to', 1], ['move', 2, 'from', 3, 'to', 4], ['move', 9, 'from', 5, 'to', 4], ['move', 1, 'from', 7, 'to', 9], ['move', 1, 'from', 6, 'to', 2], ['move', 3, 'from', 5, 'to', 7], ['move', 16, 'from', 9, 'to', 4], ['move', 2, 'from', 7, 'to', 1], ['move', 4, 'from', 6, 'to', 3], ['move', 1, 'from', 9, 'to', 5], ['move', 1, 'from', 9, 'to', 7], ['move', 1, 'from', 7, 'to', 6], ['move', 1, 'from', 7, 'to', 9], ['move', 2, 'from', 9, 'to', 2], ['move', 1, 'from', 6, 'to', 1], ['move', 2, 'from', 8, 'to', 1], ['move', 11, 'from', 4, 'to', 2], ['move', 9, 'from', 2, 'to', 6], ['move', 9, 'from', 6, 'to', 1], ['move', 15, 'from', 4, 'to', 6], ['move', 1, 'from', 4, 'to', 2], ['move', 1, 'from', 5, 'to', 3], ['move', 6, 'from', 6, 'to', 4], ['move', 3, 'from', 2, 'to', 1], ['move', 2, 'from', 4, 'to', 6], ['move', 3, 'from', 6, 'to', 2], ['move', 7, 'from', 6, 'to', 2], ['move', 1, 'from', 4, 'to', 7], ['move', 1, 'from', 7, 'to', 2], ['move', 5, 'from', 3, 'to', 6], ['move', 1, 'from', 5, 'to', 4], ['move', 1, 'from', 4, 'to', 5], ['move', 8, 'from', 1, 'to', 6], ['move', 1, 'from', 4, 'to', 8], ['move', 12, 'from', 6, 'to', 1], ['move', 1, 'from', 3, 'to', 4], ['move', 1, 'from', 4, 'to', 1], ['move', 1, 'from', 3, 'to', 4], ['move', 2, 'from', 6, 'to', 5], ['move', 31, 'from', 1, 'to', 7], ['move', 2, 'from', 5, 'to', 7], ['move', 1, 'from', 8, 'to', 2], ['move', 1, 'from', 5, 'to', 8], ['move', 1, 'from', 8, 'to', 6], ['move', 3, 'from', 4, 'to', 9], ['move', 3, 'from', 9, 'to', 4], ['move', 2, 'from', 4, 'to', 3], ['move', 2, 'from', 1, 'to', 6], ['move', 2, 'from', 3, 'to', 8], ['move', 1, 'from', 4, 'to', 9], ['move', 4, 'from', 2, 'to', 9], ['move', 17, 'from', 7, 'to', 8], ['move', 3, 'from', 8, 'to', 2], ['move', 2, 'from', 9, 'to', 4], ['move', 4, 'from', 2, 'to', 5], ['move', 1, 'from', 1, 'to', 4], ['move', 1, 'from', 9, 'to', 3], ['move', 8, 'from', 8, 'to', 4], ['move', 1, 'from', 9, 'to', 4], ['move', 4, 'from', 8, 'to', 3], ['move', 8, 'from', 2, 'to', 5], ['move', 2, 'from', 2, 'to', 3], ['move', 1, 'from', 2, 'to', 1], ['move', 1, 'from', 8, 'to', 4], ['move', 2, 'from', 8, 'to', 1], ['move', 1, 'from', 7, 'to', 2], ['move', 1, 'from', 8, 'to', 6], ['move', 3, 'from', 4, 'to', 5], ['move', 8, 'from', 4, 'to', 7], ['move', 1, 'from', 2, 'to', 8], ['move', 1, 'from', 8, 'to', 1], ['move', 2, 'from', 4, 'to', 7], ['move', 8, 'from', 5, 'to', 9], ['move', 7, 'from', 5, 'to', 2], ['move', 6, 'from', 3, 'to', 1], ['move', 6, 'from', 1, 'to', 2], ['move', 9, 'from', 9, 'to', 4], ['move', 5, 'from', 7, 'to', 4], ['move', 2, 'from', 1, 'to', 2], ['move', 9, 'from', 4, 'to', 2], ['move', 3, 'from', 6, 'to', 2], ['move', 1, 'from', 6, 'to', 8], ['move', 1, 'from', 8, 'to', 9], ['move', 1, 'from', 3, 'to', 5], ['move', 6, 'from', 7, 'to', 5], ['move', 4, 'from', 4, 'to', 2], ['move', 19, 'from', 2, 'to', 3], ['move', 1, 'from', 4, 'to', 6], ['move', 7, 'from', 7, 'to', 5], ['move', 2, 'from', 1, 'to', 8], ['move', 12, 'from', 3, 'to', 4], ['move', 3, 'from', 4, 'to', 1], ['move', 1, 'from', 6, 'to', 3], ['move', 8, 'from', 5, 'to', 9], ['move', 3, 'from', 9, 'to', 7], ['move', 6, 'from', 4, 'to', 3], ['move', 3, 'from', 1, 'to', 2], ['move', 13, 'from', 3, 'to', 7], ['move', 3, 'from', 4, 'to', 6], ['move', 4, 'from', 9, 'to', 4], ['move', 14, 'from', 7, 'to', 8], ['move', 3, 'from', 5, 'to', 2], ['move', 3, 'from', 2, 'to', 6], ['move', 1, 'from', 6, 'to', 2], ['move', 1, 'from', 3, 'to', 9], ['move', 4, 'from', 4, 'to', 6], ['move', 11, 'from', 2, 'to', 7], ['move', 2, 'from', 9, 'to', 6], ['move', 3, 'from', 5, 'to', 6], ['move', 1, 'from', 9, 'to', 7], ['move', 14, 'from', 6, 'to', 5], ['move', 1, 'from', 5, 'to', 1], ['move', 4, 'from', 5, 'to', 8], ['move', 2, 'from', 5, 'to', 6], ['move', 4, 'from', 2, 'to', 5], ['move', 1, 'from', 2, 'to', 9], ['move', 14, 'from', 8, 'to', 5], ['move', 2, 'from', 8, 'to', 4], ['move', 3, 'from', 8, 'to', 7], ['move', 5, 'from', 5, 'to', 4], ['move', 13, 'from', 5, 'to', 7], ['move', 5, 'from', 7, 'to', 6], ['move', 31, 'from', 7, 'to', 9], ['move', 7, 'from', 6, 'to', 7], ['move', 6, 'from', 5, 'to', 7], ['move', 1, 'from', 8, 'to', 9], ['move', 1, 'from', 5, 'to', 3], ['move', 1, 'from', 3, 'to', 5], ['move', 1, 'from', 1, 'to', 8], ['move', 6, 'from', 4, 'to', 3], ['move', 1, 'from', 8, 'to', 5], ['move', 1, 'from', 4, 'to', 1], ['move', 33, 'from', 9, 'to', 3], ['move', 13, 'from', 7, 'to', 1], ['move', 29, 'from', 3, 'to', 2], ['move', 3, 'from', 3, 'to', 8], ['move', 1, 'from', 5, 'to', 2], ['move', 20, 'from', 2, 'to', 6], ['move', 19, 'from', 6, 'to', 4], ['move', 1, 'from', 7, 'to', 4], ['move', 5, 'from', 1, 'to', 7], ['move', 1, 'from', 8, 'to', 7], ['move', 2, 'from', 8, 'to', 5], ['move', 10, 'from', 2, 'to', 8], ['move', 6, 'from', 3, 'to', 9], ['move', 4, 'from', 7, 'to', 1], ['move', 1, 'from', 3, 'to', 5], ['move', 1, 'from', 1, 'to', 2], ['move', 1, 'from', 7, 'to', 6], ['move', 1, 'from', 2, 'to', 8], ['move', 1, 'from', 8, 'to', 7], ['move', 4, 'from', 9, 'to', 7], ['move', 2, 'from', 5, 'to', 2], ['move', 1, 'from', 8, 'to', 5], ['move', 1, 'from', 8, 'to', 6], ['move', 7, 'from', 8, 'to', 3], ['move', 2, 'from', 9, 'to', 4], ['move', 3, 'from', 5, 'to', 1], ['move', 2, 'from', 2, 'to', 5], ['move', 5, 'from', 7, 'to', 8], ['move', 10, 'from', 4, 'to', 1], ['move', 5, 'from', 8, 'to', 5], ['move', 10, 'from', 1, 'to', 3], ['move', 2, 'from', 6, 'to', 4], ['move', 1, 'from', 7, 'to', 3], ['move', 1, 'from', 8, 'to', 1], ['move', 3, 'from', 5, 'to', 8], ['move', 12, 'from', 4, 'to', 7], ['move', 3, 'from', 5, 'to', 3], ['move', 16, 'from', 1, 'to', 7], ['move', 2, 'from', 3, 'to', 7], ['move', 1, 'from', 5, 'to', 6], ['move', 3, 'from', 8, 'to', 4], ['move', 1, 'from', 4, 'to', 7], ['move', 1, 'from', 6, 'to', 3], ['move', 14, 'from', 3, 'to', 1], ['move', 5, 'from', 3, 'to', 8], ['move', 1, 'from', 3, 'to', 5], ['move', 1, 'from', 7, 'to', 6], ['move', 1, 'from', 6, 'to', 2], ['move', 13, 'from', 7, 'to', 2], ['move', 1, 'from', 5, 'to', 3], ['move', 3, 'from', 4, 'to', 2], ['move', 1, 'from', 3, 'to', 5], ['move', 3, 'from', 8, 'to', 9], ['move', 2, 'from', 8, 'to', 9], ['move', 1, 'from', 6, 'to', 4], ['move', 5, 'from', 2, 'to', 4], ['move', 3, 'from', 2, 'to', 5], ['move', 7, 'from', 7, 'to', 3], ['move', 7, 'from', 4, 'to', 7], ['move', 5, 'from', 3, 'to', 7], ['move', 8, 'from', 2, 'to', 3], ['move', 5, 'from', 9, 'to', 5], ['move', 11, 'from', 1, 'to', 9], ['move', 4, 'from', 3, 'to', 1], ['move', 1, 'from', 2, 'to', 7], ['move', 4, 'from', 1, 'to', 7], ['move', 22, 'from', 7, 'to', 3], ['move', 5, 'from', 3, 'to', 4], ['move', 1, 'from', 7, 'to', 1], ['move', 1, 'from', 1, 'to', 4], ['move', 3, 'from', 4, 'to', 6], ['move', 3, 'from', 1, 'to', 3], ['move', 2, 'from', 6, 'to', 1], ['move', 2, 'from', 4, 'to', 9], ['move', 13, 'from', 9, 'to', 1], ['move', 1, 'from', 6, 'to', 5], ['move', 4, 'from', 7, 'to', 1], ['move', 3, 'from', 1, 'to', 6], ['move', 19, 'from', 3, 'to', 9], ['move', 5, 'from', 3, 'to', 1], ['move', 18, 'from', 9, 'to', 8], ['move', 1, 'from', 9, 'to', 3], ['move', 11, 'from', 1, 'to', 7], ['move', 1, 'from', 4, 'to', 5], ['move', 13, 'from', 8, 'to', 1], ['move', 7, 'from', 5, 'to', 8], ['move', 7, 'from', 8, 'to', 5], ['move', 3, 'from', 6, 'to', 5], ['move', 2, 'from', 3, 'to', 9], ['move', 1, 'from', 3, 'to', 7], ['move', 5, 'from', 5, 'to', 2], ['move', 10, 'from', 1, 'to', 5], ['move', 9, 'from', 7, 'to', 9], ['move', 11, 'from', 5, 'to', 2], ['move', 2, 'from', 8, 'to', 4], ['move', 1, 'from', 4, 'to', 3], ['move', 2, 'from', 7, 'to', 3], ['move', 1, 'from', 7, 'to', 4], ['move', 3, 'from', 8, 'to', 3], ['move', 8, 'from', 5, 'to', 2], ['move', 2, 'from', 3, 'to', 8], ['move', 4, 'from', 3, 'to', 8], ['move', 6, 'from', 2, 'to', 6], ['move', 5, 'from', 1, 'to', 8], ['move', 8, 'from', 2, 'to', 7], ['move', 2, 'from', 4, 'to', 7], ['move', 9, 'from', 2, 'to', 9], ['move', 4, 'from', 7, 'to', 8], ['move', 5, 'from', 1, 'to', 8], ['move', 3, 'from', 7, 'to', 4], ['move', 1, 'from', 8, 'to', 3], ['move', 3, 'from', 7, 'to', 2], ['move', 3, 'from', 1, 'to', 9], ['move', 1, 'from', 4, 'to', 9], ['move', 1, 'from', 6, 'to', 3], ['move', 18, 'from', 8, 'to', 5], ['move', 1, 'from', 8, 'to', 2], ['move', 2, 'from', 4, 'to', 9], ['move', 3, 'from', 2, 'to', 1], ['move', 2, 'from', 2, 'to', 3], ['move', 24, 'from', 9, 'to', 8], ['move', 3, 'from', 3, 'to', 7], ['move', 15, 'from', 8, 'to', 2], ['move', 12, 'from', 2, 'to', 5], ['move', 1, 'from', 7, 'to', 4], ['move', 1, 'from', 3, 'to', 1], ['move', 28, 'from', 5, 'to', 4], ['move', 1, 'from', 7, 'to', 9], ['move', 2, 'from', 2, 'to', 1], ['move', 4, 'from', 6, 'to', 3], ['move', 1, 'from', 5, 'to', 3], ['move', 1, 'from', 5, 'to', 9], ['move', 1, 'from', 2, 'to', 6], ['move', 5, 'from', 3, 'to', 5], ['move', 8, 'from', 4, 'to', 2], ['move', 2, 'from', 6, 'to', 2], ['move', 1, 'from', 7, 'to', 3], ['move', 4, 'from', 2, 'to', 8], ['move', 3, 'from', 1, 'to', 2], ['move', 5, 'from', 2, 'to', 5], ['move', 3, 'from', 5, 'to', 4], ['move', 2, 'from', 1, 'to', 5], ['move', 2, 'from', 2, 'to', 1], ['move', 4, 'from', 9, 'to', 2], ['move', 7, 'from', 8, 'to', 9], ['move', 1, 'from', 3, 'to', 1], ['move', 1, 'from', 1, 'to', 7], ['move', 2, 'from', 8, 'to', 3], ['move', 4, 'from', 9, 'to', 3], ['move', 9, 'from', 5, 'to', 7], ['move', 3, 'from', 3, 'to', 5], ['move', 1, 'from', 5, 'to', 3], ['move', 7, 'from', 7, 'to', 9], ['move', 1, 'from', 7, 'to', 9], ['move', 1, 'from', 5, 'to', 9], ['move', 1, 'from', 5, 'to', 1], ['move', 1, 'from', 8, 'to', 5], ['move', 9, 'from', 9, 'to', 1], ['move', 2, 'from', 7, 'to', 2], ['move', 1, 'from', 5, 'to', 6], ['move', 4, 'from', 3, 'to', 2], ['move', 11, 'from', 2, 'to', 4], ['move', 1, 'from', 8, 'to', 4], ['move', 1, 'from', 8, 'to', 2], ['move', 1, 'from', 2, 'to', 8], ['move', 1, 'from', 6, 'to', 5], ['move', 1, 'from', 8, 'to', 6], ['move', 6, 'from', 1, 'to', 7], ['move', 1, 'from', 5, 'to', 6], ['move', 1, 'from', 6, 'to', 5], ['move', 3, 'from', 9, 'to', 8], ['move', 3, 'from', 8, 'to', 1], ['move', 3, 'from', 7, 'to', 8], ['move', 1, 'from', 6, 'to', 9], ['move', 1, 'from', 2, 'to', 4], ['move', 1, 'from', 9, 'to', 7], ['move', 2, 'from', 7, 'to', 9], ['move', 10, 'from', 1, 'to', 6], ['move', 2, 'from', 9, 'to', 3], ['move', 1, 'from', 5, 'to', 7], ['move', 3, 'from', 7, 'to', 5], ['move', 3, 'from', 5, 'to', 3], ['move', 4, 'from', 6, 'to', 3], ['move', 18, 'from', 4, 'to', 2], ['move', 3, 'from', 4, 'to', 1], ['move', 1, 'from', 1, 'to', 3], ['move', 2, 'from', 1, 'to', 2], ['move', 8, 'from', 2, 'to', 9], ['move', 1, 'from', 4, 'to', 7], ['move', 1, 'from', 7, 'to', 1], ['move', 3, 'from', 9, 'to', 2], ['move', 3, 'from', 8, 'to', 6], ['move', 1, 'from', 4, 'to', 9], ['move', 7, 'from', 2, 'to', 8], ['move', 7, 'from', 6, 'to', 7], ['move', 3, 'from', 9, 'to', 2], ['move', 3, 'from', 2, 'to', 5], ['move', 6, 'from', 4, 'to', 6], ['move', 2, 'from', 5, 'to', 6], ['move', 3, 'from', 3, 'to', 6], ['move', 6, 'from', 6, 'to', 3], ['move', 5, 'from', 7, 'to', 5], ['move', 2, 'from', 4, 'to', 8], ['move', 5, 'from', 5, 'to', 2], ['move', 1, 'from', 7, 'to', 2], ['move', 4, 'from', 6, 'to', 4], ['move', 1, 'from', 7, 'to', 8], ['move', 1, 'from', 6, 'to', 4], ['move', 1, 'from', 5, 'to', 7], ['move', 1, 'from', 3, 'to', 4], ['move', 1, 'from', 6, 'to', 4], ['move', 2, 'from', 9, 'to', 1], ['move', 3, 'from', 1, 'to', 3], ['move', 1, 'from', 3, 'to', 1], ['move', 9, 'from', 2, 'to', 1], ['move', 8, 'from', 1, 'to', 5], ['move', 1, 'from', 7, 'to', 1], ['move', 1, 'from', 9, 'to', 1], ['move', 4, 'from', 5, 'to', 7], ['move', 4, 'from', 7, 'to', 5], ['move', 1, 'from', 1, 'to', 9], ['move', 5, 'from', 2, 'to', 4], ['move', 1, 'from', 9, 'to', 6], ['move', 8, 'from', 8, 'to', 9], ['move', 18, 'from', 4, 'to', 9], ['move', 3, 'from', 5, 'to', 4], ['move', 2, 'from', 6, 'to', 5], ['move', 1, 'from', 8, 'to', 5], ['move', 17, 'from', 9, 'to', 6], ['move', 2, 'from', 8, 'to', 1], ['move', 1, 'from', 4, 'to', 6], ['move', 8, 'from', 6, 'to', 3], ['move', 1, 'from', 1, 'to', 8], ['move', 5, 'from', 5, 'to', 3], ['move', 1, 'from', 1, 'to', 7], ['move', 1, 'from', 8, 'to', 6], ['move', 2, 'from', 4, 'to', 5], ['move', 6, 'from', 9, 'to', 4], ['move', 1, 'from', 7, 'to', 5], ['move', 7, 'from', 6, 'to', 8], ['move', 2, 'from', 6, 'to', 5], ['move', 6, 'from', 8, 'to', 3], ['move', 1, 'from', 9, 'to', 6], ['move', 2, 'from', 9, 'to', 5], ['move', 1, 'from', 3, 'to', 1], ['move', 1, 'from', 8, 'to', 6], ['move', 7, 'from', 5, 'to', 6], ['move', 7, 'from', 6, 'to', 7], ['move', 5, 'from', 4, 'to', 9], ['move', 1, 'from', 4, 'to', 5], ['move', 2, 'from', 9, 'to', 6], ['move', 3, 'from', 1, 'to', 7], ['move', 5, 'from', 6, 'to', 8], ['move', 1, 'from', 1, 'to', 5], ['move', 21, 'from', 3, 'to', 6], ['move', 3, 'from', 7, 'to', 2], ['move', 2, 'from', 9, 'to', 3], ['move', 1, 'from', 9, 'to', 7], ['move', 5, 'from', 5, 'to', 7], ['move', 7, 'from', 6, 'to', 7], ['move', 14, 'from', 7, 'to', 1], ['move', 3, 'from', 2, 'to', 8], ['move', 12, 'from', 1, 'to', 4], ['move', 5, 'from', 7, 'to', 6], ['move', 1, 'from', 7, 'to', 4], ['move', 8, 'from', 8, 'to', 3], ['move', 8, 'from', 3, 'to', 5], ['move', 6, 'from', 5, 'to', 6], ['move', 1, 'from', 5, 'to', 3], ['move', 2, 'from', 1, 'to', 8], ['move', 2, 'from', 8, 'to', 3], ['move', 10, 'from', 3, 'to', 7], ['move', 8, 'from', 4, 'to', 3], ['move', 3, 'from', 4, 'to', 9], ['move', 3, 'from', 9, 'to', 2], ['move', 1, 'from', 2, 'to', 5], ['move', 2, 'from', 2, 'to', 9], ['move', 13, 'from', 3, 'to', 1], ['move', 1, 'from', 4, 'to', 1], ['move', 2, 'from', 1, 'to', 7], ['move', 1, 'from', 5, 'to', 8], ['move', 1, 'from', 9, 'to', 6], ['move', 1, 'from', 9, 'to', 2], ['move', 1, 'from', 4, 'to', 9], ['move', 8, 'from', 6, 'to', 2], ['move', 1, 'from', 9, 'to', 5], ['move', 1, 'from', 2, 'to', 8], ['move', 1, 'from', 5, 'to', 9], ['move', 2, 'from', 2, 'to', 3], ['move', 12, 'from', 6, 'to', 8], ['move', 1, 'from', 3, 'to', 7], ['move', 8, 'from', 8, 'to', 4], ['move', 1, 'from', 9, 'to', 1], ['move', 13, 'from', 1, 'to', 3], ['move', 2, 'from', 4, 'to', 5], ['move', 12, 'from', 7, 'to', 2], ['move', 1, 'from', 5, 'to', 8], ['move', 3, 'from', 3, 'to', 8], ['move', 2, 'from', 4, 'to', 1], ['move', 1, 'from', 1, 'to', 9]]\n"
     ]
    }
   ],
   "source": [
    "with open('input.txt', 'r') as f:\n",
    "    lines = f.readlines()\n",
    "n = len(lines)\n",
    "for i in range(n):\n",
    "    lines[i] = lines[i].strip()\n",
    "    lines[i] = lines[i].split()\n",
    "    lines[i][1] = int(lines[i][1])\n",
    "    lines[i][3] = int(lines[i][3])\n",
    "    lines[i][5] = int(lines[i][5])\n",
    "print(lines)"
   ]
  },
  {
   "cell_type": "code",
   "execution_count": 13,
   "id": "7f73e2f6",
   "metadata": {},
   "outputs": [],
   "source": [
    "for line in lines:\n",
    "    for i in range(line[1]):\n",
    "        temp = stacks[line[3]].pop()\n",
    "        stacks[line[5]].append(temp)"
   ]
  },
  {
   "cell_type": "code",
   "execution_count": 15,
   "id": "65b7ac0e",
   "metadata": {},
   "outputs": [
    {
     "name": "stdout",
     "output_type": "stream",
     "text": [
      "[0, ['Z'], ['C', 'J', 'C', 'M', 'P', 'Q', 'C', 'T', 'N', 'D', 'V', 'D', 'Z', 'L', 'Q', 'T', 'G', 'B'], ['G', 'S', 'W', 'T', 'L', 'Z', 'Z', 'N', 'B', 'V', 'N', 'D'], ['B', 'M', 'N', 'R'], ['M', 'N'], ['Q', 'G', 'R', 'W', 'D', 'V', 'P'], ['M'], ['F', 'V', 'G', 'P', 'Z', 'H', 'C', 'J', 'S', 'V'], ['H']]\n"
     ]
    }
   ],
   "source": [
    "print(stacks)"
   ]
  },
  {
   "cell_type": "code",
   "execution_count": 17,
   "id": "f849d151",
   "metadata": {},
   "outputs": [
    {
     "name": "stdout",
     "output_type": "stream",
     "text": [
      "[0, ['W'], ['V', 'R', 'Z', 'C', 'B', 'V', 'Q', 'N', 'J', 'S', 'B', 'C', 'C', 'W', 'G', 'D', 'V', 'D'], ['T', 'M', 'T', 'D', 'Z', 'L', 'Z', 'V', 'T', 'S', 'Q', 'L'], ['M', 'M', 'G', 'P'], ['G', 'F'], ['J', 'N', 'V', 'Z', 'H', 'G', 'N'], ['N'], ['Z', 'C', 'H', 'M', 'R', 'P', 'P', 'Q', 'D', 'N'], ['B']]\n"
     ]
    }
   ],
   "source": [
    "for line in lines:\n",
    "    stacks[line[5]].extend(stacks[line[3]][-line[1]:])\n",
    "    for i in range(line[1]):\n",
    "        stacks[line[3]].pop()\n",
    "print(stacks)"
   ]
  }
 ],
 "metadata": {
  "kernelspec": {
   "display_name": "Python 3 (ipykernel)",
   "language": "python",
   "name": "python3"
  },
  "language_info": {
   "codemirror_mode": {
    "name": "ipython",
    "version": 3
   },
   "file_extension": ".py",
   "mimetype": "text/x-python",
   "name": "python",
   "nbconvert_exporter": "python",
   "pygments_lexer": "ipython3",
   "version": "3.9.7"
  }
 },
 "nbformat": 4,
 "nbformat_minor": 5
}
