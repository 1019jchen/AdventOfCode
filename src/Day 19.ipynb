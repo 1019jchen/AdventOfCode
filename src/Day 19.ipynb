{
 "cells": [
  {
   "cell_type": "code",
   "execution_count": 30,
   "id": "a3914b8f",
   "metadata": {},
   "outputs": [],
   "source": [
    "import collections\n",
    "import pandas as pd\n",
    "import functools\n",
    "from functools import lru_cache\n",
    "import numpy as np"
   ]
  },
  {
   "cell_type": "code",
   "execution_count": 112,
   "id": "4a3c57ce",
   "metadata": {},
   "outputs": [
    {
     "data": {
      "text/plain": [
       "[[4, 4, [3, 14], [3, 8]],\n",
       " [3, 3, [2, 14], [3, 17]],\n",
       " [2, 2, [2, 20], [2, 14]],\n",
       " [4, 3, [3, 14], [4, 17]],\n",
       " [4, 4, [4, 20], [2, 8]],\n",
       " [2, 4, [4, 15], [2, 20]],\n",
       " [4, 4, [2, 14], [3, 17]],\n",
       " [3, 3, [2, 13], [3, 12]],\n",
       " [4, 4, [4, 11], [4, 12]],\n",
       " [2, 3, [3, 18], [2, 19]],\n",
       " [3, 4, [2, 14], [3, 14]],\n",
       " [4, 3, [4, 15], [4, 9]],\n",
       " [2, 3, [3, 13], [3, 15]],\n",
       " [2, 2, [2, 7], [2, 14]],\n",
       " [2, 4, [3, 17], [4, 20]],\n",
       " [3, 3, [2, 15], [3, 9]],\n",
       " [4, 3, [4, 16], [2, 15]],\n",
       " [4, 4, [3, 6], [2, 14]],\n",
       " [4, 3, [2, 13], [2, 10]],\n",
       " [3, 3, [2, 16], [2, 18]],\n",
       " [3, 3, [3, 8], [2, 12]],\n",
       " [3, 3, [3, 6], [2, 16]],\n",
       " [4, 3, [4, 18], [3, 13]],\n",
       " [4, 3, [2, 20], [2, 9]],\n",
       " [4, 4, [3, 5], [3, 18]],\n",
       " [4, 4, [4, 5], [2, 10]],\n",
       " [4, 4, [4, 8], [4, 14]],\n",
       " [4, 4, [2, 14], [4, 15]],\n",
       " [4, 4, [4, 20], [2, 12]],\n",
       " [3, 4, [4, 14], [4, 10]]]"
      ]
     },
     "execution_count": 112,
     "metadata": {},
     "output_type": "execute_result"
    }
   ],
   "source": [
    "with open('../inputs/input19.txt', 'r') as f:\n",
    "    lines = f.readlines()\n",
    "n = len(lines)\n",
    "blueprints = []\n",
    "for i in range(n):\n",
    "    lines[i] = lines[i].strip()\n",
    "    lines[i] = lines[i].split(\"costs \")\n",
    "    temp = []\n",
    "    lines[i][1] = lines[i][1].split(\" \")\n",
    "    temp.append(int(lines[i][1][0]))\n",
    "    lines[i][2] = lines[i][2].split(\" \")\n",
    "    temp.append(int(lines[i][2][0]))\n",
    "    lines[i][3] = lines[i][3].split(\" \")\n",
    "    temp.append([int(lines[i][3][0]), int(lines[i][3][3])])\n",
    "    lines[i][4] = lines[i][4].split(\" \")\n",
    "    temp.append([int(lines[i][4][0]), int(lines[i][4][3])])\n",
    "    blueprints.append(temp)\n",
    "blueprints\n",
    "#blueprints[i] := the (i+1)th blueprint\n",
    "#blueprints[i][0] := the cost in ore of making an ore robot\n",
    "#blueprints[i][1] := the cost in ore of making a clay robot\n",
    "#blueprints[i][2][0] := the cost in ore of making an obsidian robot\n",
    "#blueprints[i][2][1] := the cost in clay of making an obsidian robot\n",
    "#blueprints[i][3][0] := the cost in ore of making a geode robot\n",
    "#blueprints[i][3][1] := the cost in obsidian of making a geode robot"
   ]
  },
  {
   "cell_type": "code",
   "execution_count": 113,
   "id": "85bc3b18",
   "metadata": {},
   "outputs": [],
   "source": [
    "bps = []\n",
    "for bp in blueprints:\n",
    "    bps.append(((to_array((0,0,0,bp[0])),to_array((0,0,0,1))),\\\n",
    "              (to_array((0,0,0,bp[1])),to_array((0,0,1,0))),\\\n",
    "              (to_array((0,0,bp[2][1],bp[2][0])),to_array((0,1,0,0))),\\\n",
    "              (to_array((0,bp[3][1],0,bp[3][0])),to_array((1,0,0,0))),\\\n",
    "              (to_array((0,0,0,0)),to_array((0,0,0,0))),\\\n",
    "              ))"
   ]
  },
  {
   "cell_type": "code",
   "execution_count": 100,
   "id": "3b52bbe8",
   "metadata": {},
   "outputs": [],
   "source": [
    "key = lambda a: tuple(a[0]+a[1]) + tuple(a[1])\n",
    "prune_list = lambda x: sorted({key(x):x for x in x}.values(), key=key)[-1000:]\n",
    "def to_array(tup):\n",
    "    return np.array(tup)"
   ]
  },
  {
   "cell_type": "code",
   "execution_count": 106,
   "id": "8b64b087",
   "metadata": {},
   "outputs": [],
   "source": [
    "def bfs(time, bp_num):\n",
    "    #Q elements are in the form (resources, robots)\n",
    "    Q = [(to_array((0,0,0,0)), to_array((0,0,0,1)))]\n",
    "    for t in range(time, 0, -1):\n",
    "        next_Q = []\n",
    "        for resources, robots in Q:\n",
    "            for costs, generations in bps[bp_num]:\n",
    "                if all(costs<=resources):\n",
    "                    next_Q.append((resources+robots-costs, robots+generations))\n",
    "        Q = prune_list(next_Q)\n",
    "    return max(resources[0] for resources,_ in Q)"
   ]
  },
  {
   "cell_type": "code",
   "execution_count": 114,
   "id": "ce1ecba6",
   "metadata": {},
   "outputs": [
    {
     "data": {
      "text/plain": [
       "[0,\n",
       " 1,\n",
       " 1,\n",
       " 3,\n",
       " 0,\n",
       " 0,\n",
       " 1,\n",
       " 0,\n",
       " 3,\n",
       " 1,\n",
       " 1,\n",
       " 1,\n",
       " 2,\n",
       " 5,\n",
       " 16,\n",
       " 1,\n",
       " 4,\n",
       " 0,\n",
       " 3,\n",
       " 3,\n",
       " 0,\n",
       " 7,\n",
       " 7,\n",
       " 0,\n",
       " 1,\n",
       " 3,\n",
       " 5,\n",
       " 1,\n",
       " 0,\n",
       " 0,\n",
       " 2]"
      ]
     },
     "execution_count": 114,
     "metadata": {},
     "output_type": "execute_result"
    }
   ],
   "source": [
    "results = [0]\n",
    "for i in range(n):\n",
    "    results.append(bfs(24,i))\n",
    "results"
   ]
  },
  {
   "cell_type": "code",
   "execution_count": 115,
   "id": "66d8f386",
   "metadata": {},
   "outputs": [
    {
     "data": {
      "text/plain": [
       "1192"
      ]
     },
     "execution_count": 115,
     "metadata": {},
     "output_type": "execute_result"
    }
   ],
   "source": [
    "#Answer to Part 1\n",
    "ans = 0\n",
    "for i,x in enumerate(results):\n",
    "    ans += i*x\n",
    "ans"
   ]
  },
  {
   "cell_type": "code",
   "execution_count": 116,
   "id": "fa103a9a",
   "metadata": {},
   "outputs": [
    {
     "data": {
      "text/plain": [
       "[0, 25, 19, 31]"
      ]
     },
     "execution_count": 116,
     "metadata": {},
     "output_type": "execute_result"
    }
   ],
   "source": [
    "results = [0]\n",
    "for i in range(3):\n",
    "    results.append(bfs(32,i))\n",
    "results"
   ]
  },
  {
   "cell_type": "code",
   "execution_count": 117,
   "id": "92284d3c",
   "metadata": {},
   "outputs": [
    {
     "data": {
      "text/plain": [
       "14725"
      ]
     },
     "execution_count": 117,
     "metadata": {},
     "output_type": "execute_result"
    }
   ],
   "source": [
    "#Answer to Part 2\n",
    "ans = 1\n",
    "for i,x in enumerate(results):\n",
    "    if i==0:\n",
    "        continue\n",
    "    ans *= x\n",
    "ans"
   ]
  }
 ],
 "metadata": {
  "kernelspec": {
   "display_name": "Python 3 (ipykernel)",
   "language": "python",
   "name": "python3"
  },
  "language_info": {
   "codemirror_mode": {
    "name": "ipython",
    "version": 3
   },
   "file_extension": ".py",
   "mimetype": "text/x-python",
   "name": "python",
   "nbconvert_exporter": "python",
   "pygments_lexer": "ipython3",
   "version": "3.9.7"
  }
 },
 "nbformat": 4,
 "nbformat_minor": 5
}
