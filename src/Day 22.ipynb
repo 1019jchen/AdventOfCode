{
 "cells": [
  {
   "cell_type": "code",
   "execution_count": 264,
   "id": "a3914b8f",
   "metadata": {},
   "outputs": [],
   "source": [
    "import collections\n",
    "import pandas as pd\n",
    "import functools\n",
    "from functools import lru_cache\n",
    "import sympy\n",
    "import numpy as np"
   ]
  },
  {
   "cell_type": "code",
   "execution_count": 265,
   "id": "4a3c57ce",
   "metadata": {},
   "outputs": [],
   "source": [
    "with open('../inputs/input22.txt', 'r') as f:\n",
    "    lines = f.readlines()\n",
    "n = len(lines)\n",
    "m = 0\n",
    "for i in range(n):\n",
    "    m = max(m, len(lines[i]))\n",
    "for i in range(n):\n",
    "    lines[i] = list(lines[i])\n",
    "    for j in range(m):\n",
    "        if j >= len(lines[i]):\n",
    "            lines[i].append(' ')\n",
    "        if lines[i][j] == '\\n':\n",
    "            lines[i][j] = ' '"
   ]
  },
  {
   "cell_type": "code",
   "execution_count": 266,
   "id": "80278f11",
   "metadata": {},
   "outputs": [],
   "source": [
    "#Debugging purposes\n",
    "def print_grid():\n",
    "    for i in range(n):\n",
    "        line = \"\"\n",
    "        for j in range(m):\n",
    "            line += lines[i][j]\n",
    "        print(line)"
   ]
  },
  {
   "cell_type": "code",
   "execution_count": 267,
   "id": "0e536e17",
   "metadata": {},
   "outputs": [],
   "source": [
    "with open('../inputs/input22-numbers.txt', 'r') as f:\n",
    "    instructions = f.readlines()\n",
    "instructions = instructions[0]\n",
    "a = len(instructions)\n",
    "ins = []\n",
    "prev_i = -1\n",
    "for i in range(a):\n",
    "    if instructions[i] == \"R\" or instructions[i] == \"L\":\n",
    "        ins.append(int(instructions[prev_i+1:i]))\n",
    "        ins.append(instructions[i])\n",
    "        prev_i = i\n",
    "ins.append(instructions[max(\"\".join(instructions).rindex('R'), \"\".join(instructions).rindex('L'))+1:])\n",
    "ins[-1] = int(ins[-1])\n",
    "nums = []\n",
    "turns = []\n",
    "for x in ins:\n",
    "    if isinstance(x, int):\n",
    "        nums.append(x)\n",
    "    else:\n",
    "        turns.append(x)\n",
    "ins_index = 0"
   ]
  },
  {
   "cell_type": "code",
   "execution_count": 268,
   "id": "2b933b34",
   "metadata": {},
   "outputs": [
    {
     "data": {
      "text/plain": [
       "(0, 50)"
      ]
     },
     "execution_count": 268,
     "metadata": {},
     "output_type": "execute_result"
    }
   ],
   "source": [
    "directions = [(0,1), (1,0), (0,-1), (-1,0)]\n",
    "#R, D, L, U\n",
    "cur_direction = 0\n",
    "#initalize cur_x and cur_y to starting point\n",
    "cur_x = 0\n",
    "cur_y = 0\n",
    "for j in range(m):\n",
    "    if lines[0][j] == '.':\n",
    "        cur_y = j\n",
    "        break\n",
    "cur_x,cur_y"
   ]
  },
  {
   "cell_type": "code",
   "execution_count": 269,
   "id": "2f4ef4f1",
   "metadata": {},
   "outputs": [],
   "source": [
    "def move(cur_x, cur_y, dist):\n",
    "    d = directions[cur_direction]\n",
    "    while (dist>0):\n",
    "        next_x = (cur_x+d[0])%n\n",
    "        next_y = (cur_y+d[1])%m\n",
    "        while (lines[next_x][next_y] == ' '):\n",
    "            next_x = (next_x + d[0])%n\n",
    "            next_y = (next_y + d[1])%m\n",
    "        if lines[next_x][next_y] == '#':\n",
    "            return cur_x, cur_y\n",
    "        if lines[next_x][next_y] == '.':\n",
    "            cur_x = next_x\n",
    "            cur_y = next_y\n",
    "            dist -= 1\n",
    "        else:\n",
    "            cur_x = next_x\n",
    "            cur_y = next_y\n",
    "    return cur_x, cur_y"
   ]
  },
  {
   "cell_type": "code",
   "execution_count": 270,
   "id": "b33a0c13",
   "metadata": {},
   "outputs": [],
   "source": [
    "def rotate(cur_direction, rotation):\n",
    "    if rotation == 'R':\n",
    "        cur_direction += 1\n",
    "        cur_direction %= 4\n",
    "    elif rotation == 'L':\n",
    "        cur_direction += 3\n",
    "        cur_direction %= 4\n",
    "    return cur_direction"
   ]
  },
  {
   "cell_type": "code",
   "execution_count": 271,
   "id": "accf39f3",
   "metadata": {},
   "outputs": [
    {
     "data": {
      "text/plain": [
       "(66, 96, 2)"
      ]
     },
     "execution_count": 271,
     "metadata": {},
     "output_type": "execute_result"
    }
   ],
   "source": [
    "for i in range(len(nums)-1):\n",
    "    cur_x, cur_y = move(cur_x, cur_y, nums[i])\n",
    "    cur_direction = rotate(cur_direction, turns[i])\n",
    "cur_x, cur_y = move(cur_x, cur_y, nums[i])\n",
    "cur_x, cur_y, cur_direction"
   ]
  },
  {
   "cell_type": "code",
   "execution_count": 272,
   "id": "c76ab42a",
   "metadata": {},
   "outputs": [
    {
     "name": "stdout",
     "output_type": "stream",
     "text": [
      "67390\n"
     ]
    }
   ],
   "source": [
    "#Answer to Part 1\n",
    "print(1000*(cur_x+1)+4*(cur_y+1)+cur_direction)"
   ]
  },
  {
   "cell_type": "code",
   "execution_count": 273,
   "id": "812598e9",
   "metadata": {},
   "outputs": [],
   "source": [
    "special_edges = {}\n",
    "#mapping of special edges: (x,y,dir) -> (new x, new y, new dir)\n",
    "#Finding the y-coordinate of edge 1\n",
    "temp_x = 0\n",
    "temp_y = 0\n",
    "while (lines[temp_x][temp_y] == \" \"):\n",
    "    temp_y += 1\n",
    "y_edge_1 = temp_y\n",
    "#coordinate is 50\n",
    "#Finding the x-coordinate range of edge 1\n",
    "temp_x = 0\n",
    "temp_y = m-2\n",
    "while(lines[temp_x+1][temp_y] != \" \"):\n",
    "    temp_x += 1\n",
    "temp_x, temp_y\n",
    "#coordinates 0-49\n",
    "\n",
    "#Finding the x-coordinate range of edge 9\n",
    "temp_x = 0\n",
    "temp_y = 0\n",
    "while (lines[temp_x][temp_y] == \" \"):\n",
    "    temp_x += 1\n",
    "temp_x = 0\n",
    "temp_y = 50\n",
    "while (lines[temp_x+1][temp_y] != \" \"):\n",
    "    temp_x += 1\n",
    "#coordinates 100-149\n",
    "for i in range(50):\n",
    "    special_edges[(0+i, 50, 2)] = (149-i, 0, 0)\n",
    "    special_edges[(149-i, 0, 2)] = (0+i, 50, 0)"
   ]
  },
  {
   "cell_type": "code",
   "execution_count": 275,
   "id": "3001f368",
   "metadata": {},
   "outputs": [],
   "source": [
    "#connecting edges 6 and 8\n",
    "for i in range(50):\n",
    "    special_edges[(50+i, 50, 2)] = (100, 0+i, 1)\n",
    "    special_edges[(100, 0+i, 3)] = (50+i, 50, 0)"
   ]
  },
  {
   "cell_type": "code",
   "execution_count": 276,
   "id": "8e50226d",
   "metadata": {},
   "outputs": [],
   "source": [
    "#connecting edges 2 and 12\n",
    "for i in range(50):\n",
    "    special_edges[(0, 50+i, 3)] = (150+i, 0, 0)\n",
    "    special_edges[(150+i, 0, 2)] = (0, 50+i, 1)"
   ]
  },
  {
   "cell_type": "code",
   "execution_count": 278,
   "id": "5147a79d",
   "metadata": {},
   "outputs": [],
   "source": [
    "#connecting edges 3 and 13\n",
    "for i in range(50):\n",
    "    special_edges[(0, 100+i, 3)] = (199, 0+i, 3)\n",
    "    special_edges[(199, 0+i, 1)] = (0, 100+i, 1)"
   ]
  },
  {
   "cell_type": "code",
   "execution_count": 279,
   "id": "f397bc72",
   "metadata": {},
   "outputs": [],
   "source": [
    "#connecting edges 4 and 10\n",
    "for i in range(50):\n",
    "    special_edges[(0+i, 149, 0)] = (149-i, 99, 2)\n",
    "    special_edges[(149-i, 99, 0)] = (0+i, 149, 2)"
   ]
  },
  {
   "cell_type": "code",
   "execution_count": 280,
   "id": "35a997e2",
   "metadata": {},
   "outputs": [],
   "source": [
    "#connecting edges 5 and 7\n",
    "for i in range(50):\n",
    "    special_edges[(49, 100+i, 1)] = (50+i, 99, 2)\n",
    "    special_edges[(50+i, 99, 0)] = (49, 100+i, 3)"
   ]
  },
  {
   "cell_type": "code",
   "execution_count": 281,
   "id": "e9e4ea58",
   "metadata": {},
   "outputs": [],
   "source": [
    "#connecting edges 11 and 14\n",
    "for i in range(50):\n",
    "    special_edges[(149, 50+i, 1)] = (150+i, 49, 2)\n",
    "    special_edges[(150+i, 49, 0)] = (149, 50+i, 3)"
   ]
  },
  {
   "cell_type": "code",
   "execution_count": 282,
   "id": "8346b2ab",
   "metadata": {},
   "outputs": [],
   "source": [
    "def move2(cur_x, cur_y, cur_direction, dist):\n",
    "    while (dist>0):\n",
    "        d = directions[cur_direction]\n",
    "        next_x = (cur_x+d[0])%n\n",
    "        next_y = (cur_y+d[1])%m\n",
    "        next_direction = cur_direction\n",
    "        if ((cur_x, cur_y, cur_direction) in special_edges):\n",
    "            next_x, next_y, next_direction = special_edges[(cur_x, cur_y, next_direction)]\n",
    "        if lines[next_x][next_y] == '#':\n",
    "            return cur_x, cur_y, cur_direction\n",
    "        if lines[next_x][next_y] == '.':\n",
    "            cur_x = next_x\n",
    "            cur_y = next_y\n",
    "            cur_direction = next_direction\n",
    "            dist -= 1\n",
    "        else: #useless?\n",
    "            cur_x = next_x\n",
    "            cur_y = next_y\n",
    "            cur_direction = next_direction\n",
    "    return cur_x, cur_y, cur_direction"
   ]
  },
  {
   "cell_type": "code",
   "execution_count": 284,
   "id": "83895133",
   "metadata": {},
   "outputs": [
    {
     "data": {
      "text/plain": [
       "(0, 50)"
      ]
     },
     "execution_count": 284,
     "metadata": {},
     "output_type": "execute_result"
    }
   ],
   "source": [
    "directions = [(0,1), (1,0), (0,-1), (-1,0)]\n",
    "#R, D, L, U\n",
    "cur_direction = 0\n",
    "#initalize cur_x and cur_y to starting point\n",
    "cur_x = 0\n",
    "cur_y = 0\n",
    "for j in range(m):\n",
    "    if lines[0][j] == '.':\n",
    "        cur_y = j\n",
    "        break\n",
    "cur_x,cur_y"
   ]
  },
  {
   "cell_type": "code",
   "execution_count": 285,
   "id": "89116e78",
   "metadata": {},
   "outputs": [
    {
     "data": {
      "text/plain": [
       "(94, 71, 3)"
      ]
     },
     "execution_count": 285,
     "metadata": {},
     "output_type": "execute_result"
    }
   ],
   "source": [
    "for i in range(len(nums)-1):\n",
    "    cur_x, cur_y, cur_direction = move2(cur_x, cur_y, cur_direction, nums[i])\n",
    "    cur_direction = rotate(cur_direction, turns[i])\n",
    "cur_x, cur_y, cur_direction = move2(cur_x, cur_y, cur_direction, nums[len(nums)-1])\n",
    "cur_x, cur_y, cur_direction"
   ]
  },
  {
   "cell_type": "code",
   "execution_count": 286,
   "id": "36b4479e",
   "metadata": {},
   "outputs": [
    {
     "name": "stdout",
     "output_type": "stream",
     "text": [
      "95291\n"
     ]
    }
   ],
   "source": [
    "#Answer to Part 2\n",
    "print(1000*(cur_x+1)+4*(cur_y+1)+cur_direction)"
   ]
  }
 ],
 "metadata": {
  "kernelspec": {
   "display_name": "Python 3 (ipykernel)",
   "language": "python",
   "name": "python3"
  },
  "language_info": {
   "codemirror_mode": {
    "name": "ipython",
    "version": 3
   },
   "file_extension": ".py",
   "mimetype": "text/x-python",
   "name": "python",
   "nbconvert_exporter": "python",
   "pygments_lexer": "ipython3",
   "version": "3.9.7"
  }
 },
 "nbformat": 4,
 "nbformat_minor": 5
}
