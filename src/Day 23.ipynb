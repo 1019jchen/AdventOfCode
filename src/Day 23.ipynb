{
 "cells": [
  {
   "cell_type": "code",
   "execution_count": 30,
   "id": "a3914b8f",
   "metadata": {},
   "outputs": [],
   "source": [
    "import collections\n",
    "import pandas as pd\n",
    "import functools\n",
    "from functools import lru_cache\n",
    "import sympy\n",
    "import numpy as np"
   ]
  },
  {
   "cell_type": "code",
   "execution_count": 58,
   "id": "4a3c57ce",
   "metadata": {},
   "outputs": [],
   "source": [
    "with open('../inputs/input23.txt', 'r') as f:\n",
    "    lines = f.readlines()\n",
    "n = len(lines)\n",
    "elves = []\n",
    "for i in range(n):\n",
    "    lines[i] = lines[i].strip()\n",
    "    lines[i] = list(lines[i])\n",
    "    for j in range(len(lines[i])):\n",
    "        if lines[i][j] == \"#\":\n",
    "            elves.append((i,j))\n",
    "min_x = float('inf')\n",
    "min_y = float('inf')\n",
    "max_x = 0\n",
    "max_y = 0\n",
    "n = len(elves)"
   ]
  },
  {
   "cell_type": "code",
   "execution_count": 59,
   "id": "0e536e17",
   "metadata": {},
   "outputs": [
    {
     "data": {
      "text/plain": [
       "(0, 69, 0, 69)"
      ]
     },
     "execution_count": 59,
     "metadata": {},
     "output_type": "execute_result"
    }
   ],
   "source": [
    "def update_boundaries(elf):\n",
    "    global min_x, max_x, min_y, max_y\n",
    "    min_x = min(min_x, elf[0])\n",
    "    max_x = max(max_x, elf[0])\n",
    "    min_y = min(min_y, elf[1])\n",
    "    max_y = max(max_y, elf[1])\n",
    "for elf in elves:\n",
    "    update_boundaries(elf)\n",
    "min_x, max_x, min_y, max_y"
   ]
  },
  {
   "cell_type": "code",
   "execution_count": 23,
   "id": "6a07bdb3",
   "metadata": {},
   "outputs": [],
   "source": [
    "def check_north(elf):\n",
    "    #Check Northern elves:\n",
    "    northern_elves = False\n",
    "    for direction in directions[-1:]:\n",
    "        if (elf[0]+direction[0], elf[1]+direction[1]) in elves:\n",
    "            northern_elves = True\n",
    "    for direction in directions[:2]:\n",
    "        if (elf[0]+direction[0], elf[1]+direction[1]) in elves:\n",
    "            northern_elves = True\n",
    "    return northern_elves"
   ]
  },
  {
   "cell_type": "code",
   "execution_count": 24,
   "id": "afaf7a64",
   "metadata": {},
   "outputs": [],
   "source": [
    "def check_south(elf):\n",
    "    #Check Southern elves:\n",
    "    southern_elves = False\n",
    "    for direction in directions[3:6]:\n",
    "        if (elf[0]+direction[0], elf[1]+direction[1]) in elves:\n",
    "            southern_elves = True\n",
    "    return southern_elves"
   ]
  },
  {
   "cell_type": "code",
   "execution_count": 25,
   "id": "a3ac5515",
   "metadata": {},
   "outputs": [],
   "source": [
    "def check_east(elf):\n",
    "    eastern_elves = False\n",
    "    for direction in directions[1:4]:\n",
    "        if (elf[0]+direction[0], elf[1]+direction[1]) in elves:\n",
    "            eastern_elves = True\n",
    "    return eastern_elves"
   ]
  },
  {
   "cell_type": "code",
   "execution_count": 26,
   "id": "4c9ec823",
   "metadata": {},
   "outputs": [],
   "source": [
    "def check_west(elf):\n",
    "    western_elves = False\n",
    "    for direction in directions[5:]:\n",
    "        if (elf[0]+direction[0], elf[1]+direction[1]) in elves:\n",
    "            western_elves = True\n",
    "    return western_elves"
   ]
  },
  {
   "cell_type": "code",
   "execution_count": 81,
   "id": "2b933b34",
   "metadata": {},
   "outputs": [],
   "source": [
    "directions = [(-1,0), (-1,1), (0,1), (1,1), (1,0), (1,-1), (0, -1), (-1, -1)]\n",
    "#N, NE, E, SE, S, SW, W, NW\n",
    "check_order = ['N', 'S', 'W', 'E']\n",
    "requests = []\n",
    "def move_request(elf):\n",
    "    adjacent_elves = False\n",
    "    #Check to see if there are any adjacent elves\n",
    "    for direction in directions:\n",
    "        if (elf[0]+direction[0], elf[1]+direction[1]) in elves:\n",
    "            adjacent_elves = True\n",
    "    if not adjacent_elves:\n",
    "        return (elf[0], elf[1])\n",
    "    global check_order\n",
    "    for i in range(4):\n",
    "        if check_order[i] == 'N' and not check_north(elf):\n",
    "            return (elf[0]-1, elf[1])\n",
    "        if check_order[i] == 'S' and not check_south(elf):\n",
    "            return (elf[0]+1, elf[1])\n",
    "        if check_order[i] == 'E' and not check_east(elf):\n",
    "            return (elf[0], elf[1]+1)\n",
    "        if check_order[i] == 'W' and not check_west(elf):\n",
    "            return (elf[0], elf[1]-1)\n",
    "    return (elf[0], elf[1])"
   ]
  },
  {
   "cell_type": "code",
   "execution_count": 61,
   "id": "accf39f3",
   "metadata": {},
   "outputs": [],
   "source": [
    "for i in range(10):\n",
    "    requests = []\n",
    "    for elf in elves:\n",
    "        requests.append(move_request(elf))\n",
    "    request_count = collections.Counter(requests)\n",
    "    for j in range(n):\n",
    "        if request_count[requests[j]] == 1:\n",
    "            elves[j] = requests[j]\n",
    "    check_order.append(check_order.pop(0))\n",
    "for elf in elves:\n",
    "    update_boundaries(elf)    "
   ]
  },
  {
   "cell_type": "code",
   "execution_count": 62,
   "id": "c76ab42a",
   "metadata": {},
   "outputs": [
    {
     "data": {
      "text/plain": [
       "3864"
      ]
     },
     "execution_count": 62,
     "metadata": {},
     "output_type": "execute_result"
    }
   ],
   "source": [
    "#Answer to Part 1\n",
    "empty = 0\n",
    "for i in range(min_x, max_x+1):\n",
    "    for j in range(min_y, max_y+1):\n",
    "        if (i,j) not in elves:\n",
    "            empty += 1\n",
    "empty"
   ]
  },
  {
   "cell_type": "code",
   "execution_count": 82,
   "id": "812598e9",
   "metadata": {},
   "outputs": [],
   "source": [
    "with open('../inputs/input23.txt', 'r') as f:\n",
    "    lines = f.readlines()\n",
    "n = len(lines)\n",
    "elves = []\n",
    "for i in range(n):\n",
    "    lines[i] = lines[i].strip()\n",
    "    lines[i] = list(lines[i])\n",
    "    for j in range(len(lines[i])):\n",
    "        if lines[i][j] == \"#\":\n",
    "            elves.append((i,j))\n",
    "n = len(elves)"
   ]
  },
  {
   "cell_type": "code",
   "execution_count": 83,
   "id": "3001f368",
   "metadata": {},
   "outputs": [
    {
     "name": "stdout",
     "output_type": "stream",
     "text": [
      "946\n"
     ]
    }
   ],
   "source": [
    "#Answer to Part 2\n",
    "round = 1\n",
    "check_order = ['N', 'S', 'W', 'E']\n",
    "while(round <= 1000):\n",
    "    requests = []\n",
    "    temp_elves = elves.copy()\n",
    "    for elf in elves:\n",
    "        requests.append(move_request(elf))\n",
    "    request_count = collections.Counter(requests)\n",
    "    for j in range(n):\n",
    "        if request_count[requests[j]] == 1:\n",
    "            temp_elves[j] = requests[j]\n",
    "    if temp_elves == elves:\n",
    "        print(round)\n",
    "        break\n",
    "    else:\n",
    "        elves = temp_elves\n",
    "    check_order.append(check_order.pop(0))\n",
    "    round += 1"
   ]
  }
 ],
 "metadata": {
  "kernelspec": {
   "display_name": "Python 3 (ipykernel)",
   "language": "python",
   "name": "python3"
  },
  "language_info": {
   "codemirror_mode": {
    "name": "ipython",
    "version": 3
   },
   "file_extension": ".py",
   "mimetype": "text/x-python",
   "name": "python",
   "nbconvert_exporter": "python",
   "pygments_lexer": "ipython3",
   "version": "3.9.7"
  }
 },
 "nbformat": 4,
 "nbformat_minor": 5
}
