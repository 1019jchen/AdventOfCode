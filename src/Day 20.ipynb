{
 "cells": [
  {
   "cell_type": "code",
   "execution_count": 82,
   "id": "a3914b8f",
   "metadata": {},
   "outputs": [],
   "source": [
    "import collections\n",
    "import pandas as pd\n",
    "import functools\n",
    "from functools import lru_cache"
   ]
  },
  {
   "cell_type": "code",
   "execution_count": 83,
   "id": "4a3c57ce",
   "metadata": {},
   "outputs": [],
   "source": [
    "with open('../inputs/input20.txt', 'r') as f:\n",
    "    lines = f.readlines()\n",
    "n = len(lines)\n",
    "for i in range(n):\n",
    "    lines[i] = lines[i].strip()\n",
    "    lines[i] = int(lines[i])"
   ]
  },
  {
   "cell_type": "code",
   "execution_count": 84,
   "id": "5c56a8a3",
   "metadata": {},
   "outputs": [],
   "source": [
    "class Node():\n",
    "    def __init__(self, val, original_index):\n",
    "        self.val = val\n",
    "        self.next = None\n",
    "        self.prev = None\n",
    "        self.original_index = original_index"
   ]
  },
  {
   "cell_type": "code",
   "execution_count": 85,
   "id": "f131f91c",
   "metadata": {},
   "outputs": [],
   "source": [
    "head = Node(lines[0], 0)\n",
    "prev = head\n",
    "pointers = {}\n",
    "pointers[0] = head\n",
    "for i in range(1, n):\n",
    "    new_node = Node(lines[i], i)\n",
    "    pointers[i] = new_node\n",
    "    new_node.prev = prev\n",
    "    prev.next = new_node\n",
    "    prev = new_node\n",
    "tail = new_node\n",
    "head.prev = tail\n",
    "tail.next = head"
   ]
  },
  {
   "cell_type": "code",
   "execution_count": 86,
   "id": "f7545529",
   "metadata": {},
   "outputs": [],
   "source": [
    "def print_linked_list():\n",
    "    result = \"\"\n",
    "    pointer = head\n",
    "    result += str(pointer.val)\n",
    "    pointer = pointer.next\n",
    "    while (pointer and pointer!=head):\n",
    "        result += \" \"+ str(pointer.val)\n",
    "        pointer = pointer.next"
   ]
  },
  {
   "cell_type": "code",
   "execution_count": 87,
   "id": "2b933b34",
   "metadata": {},
   "outputs": [],
   "source": [
    "def swap(node1, node2):\n",
    "    node1.val, node2.val = node2.val, node1.val\n",
    "    node1.original_index, node2.original_index = node2.original_index, node1.original_index\n",
    "    pointers[node1.original_index], pointers[node2.original_index] = pointers[node2.original_index], pointers[node1.original_index]"
   ]
  },
  {
   "cell_type": "code",
   "execution_count": 88,
   "id": "2f4ef4f1",
   "metadata": {},
   "outputs": [],
   "source": [
    "for i in range(n):\n",
    "    pointer = pointers[i]\n",
    "    val = pointer.val\n",
    "    if val>0:\n",
    "        for j in range(val):\n",
    "            swap(pointer, pointer.next)\n",
    "            pointer = pointer.next\n",
    "    if val<0:\n",
    "        for j in range(0, val, -1):\n",
    "            swap(pointer, pointer.prev)\n",
    "            pointer = pointer.prev"
   ]
  },
  {
   "cell_type": "code",
   "execution_count": 89,
   "id": "b33a0c13",
   "metadata": {},
   "outputs": [
    {
     "name": "stdout",
     "output_type": "stream",
     "text": [
      "7153\n"
     ]
    }
   ],
   "source": [
    "#Answer to Part 1\n",
    "pointer = head\n",
    "while (pointer.val != 0):\n",
    "    pointer = pointer.next\n",
    "sum = 0\n",
    "for i in range(1000):\n",
    "    pointer = pointer.next\n",
    "sum += pointer.val\n",
    "\n",
    "for i in range(1000):\n",
    "    pointer = pointer.next\n",
    "sum += pointer.val\n",
    "\n",
    "for i in range(1000):\n",
    "    pointer = pointer.next\n",
    "sum += pointer.val\n",
    "print(sum)"
   ]
  },
  {
   "cell_type": "code",
   "execution_count": 90,
   "id": "accf39f3",
   "metadata": {},
   "outputs": [],
   "source": [
    "#811589153\n",
    "head = Node((lines[0]*811589153), 0)\n",
    "prev = head\n",
    "pointers = {}\n",
    "pointers[0] = head\n",
    "for i in range(1, n):\n",
    "    new_node = Node((lines[i]*811589153), i)\n",
    "    pointers[i] = new_node\n",
    "    new_node.prev = prev\n",
    "    prev.next = new_node\n",
    "    prev = new_node\n",
    "tail = new_node\n",
    "head.prev = tail\n",
    "tail.next = head"
   ]
  },
  {
   "cell_type": "code",
   "execution_count": 91,
   "id": "c76ab42a",
   "metadata": {},
   "outputs": [],
   "source": [
    "for i in range(10):\n",
    "    for i in range(n):\n",
    "        pointer = pointers[i]\n",
    "        val = pointer.val%(n-1)\n",
    "        if val>0:\n",
    "            for j in range(val):\n",
    "                swap(pointer, pointer.next)\n",
    "                pointer = pointer.next\n",
    "        if val<0:\n",
    "            for j in range(0, val, -1):\n",
    "                swap(pointer, pointer.prev)\n",
    "                pointer = pointer.prev"
   ]
  },
  {
   "cell_type": "code",
   "execution_count": 92,
   "id": "812598e9",
   "metadata": {},
   "outputs": [
    {
     "name": "stdout",
     "output_type": "stream",
     "text": [
      "6146976244822\n"
     ]
    }
   ],
   "source": [
    "#Answer to Part 2\n",
    "pointer = head\n",
    "while (pointer.val != 0):\n",
    "    pointer = pointer.next\n",
    "sum = 0\n",
    "for i in range(1000):\n",
    "    pointer = pointer.next\n",
    "sum += pointer.val\n",
    "\n",
    "for i in range(1000):\n",
    "    pointer = pointer.next\n",
    "sum += pointer.val\n",
    "\n",
    "for i in range(1000):\n",
    "    pointer = pointer.next\n",
    "sum += pointer.val\n",
    "print(sum)"
   ]
  }
 ],
 "metadata": {
  "kernelspec": {
   "display_name": "Python 3 (ipykernel)",
   "language": "python",
   "name": "python3"
  },
  "language_info": {
   "codemirror_mode": {
    "name": "ipython",
    "version": 3
   },
   "file_extension": ".py",
   "mimetype": "text/x-python",
   "name": "python",
   "nbconvert_exporter": "python",
   "pygments_lexer": "ipython3",
   "version": "3.9.7"
  }
 },
 "nbformat": 4,
 "nbformat_minor": 5
}
